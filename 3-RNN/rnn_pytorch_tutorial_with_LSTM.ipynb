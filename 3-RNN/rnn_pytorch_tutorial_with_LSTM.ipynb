{
  "cells": [
    {
      "cell_type": "markdown",
      "id": "b0386667",
      "metadata": {
        "id": "b0386667"
      },
      "source": [
        "# RNN Tutorial"
      ]
    },
    {
      "cell_type": "markdown",
      "id": "888043a3",
      "metadata": {
        "id": "888043a3"
      },
      "source": [
        "Included in the data/names directory are 18 text files named as “[Language].txt”. Each file contains a bunch of names, one name per line, mostly romanized (but we still need to convert from Unicode to ASCII).\n",
        "\n",
        "We’ll end up with a dictionary of lists of names per language, {language: [names ...]}. The generic variables “category” and “line” (for language and name in our case) are used for later extensibility."
      ]
    },
    {
      "cell_type": "code",
      "source": [
        "from google.colab import drive\n",
        "drive.mount('/content/drive')\n",
        "%cd /content/drive/MyDrive/Colab Notebooks/lab3\n",
        "\n",
        "if torch.cuda.is_available():\n",
        "    device = torch.device(\"cuda\")\n",
        "    print(\"CUDA is available\")\n",
        "else:\n",
        "    device = torch.device(\"cpu\")\n",
        "    print(\"CUDA is not available\")"
      ],
      "metadata": {
        "colab": {
          "base_uri": "https://localhost:8080/"
        },
        "id": "6wFWo5uoE5_-",
        "outputId": "9a6ba10a-a4be-4e16-9460-ca7d6b14118a"
      },
      "id": "6wFWo5uoE5_-",
      "execution_count": 269,
      "outputs": [
        {
          "output_type": "stream",
          "name": "stdout",
          "text": [
            "Drive already mounted at /content/drive; to attempt to forcibly remount, call drive.mount(\"/content/drive\", force_remount=True).\n",
            "/content/drive/MyDrive/Colab Notebooks/lab3\n",
            "CUDA is available\n"
          ]
        }
      ]
    },
    {
      "cell_type": "code",
      "execution_count": 270,
      "id": "b44343fa",
      "metadata": {
        "scrolled": true,
        "colab": {
          "base_uri": "https://localhost:8080/"
        },
        "id": "b44343fa",
        "outputId": "d6b5f357-722d-48bb-ccc6-d1aeb07a827d"
      },
      "outputs": [
        {
          "output_type": "stream",
          "name": "stdout",
          "text": [
            "['data/names/Spanish.txt', 'data/names/Vietnamese.txt', 'data/names/Scottish.txt', 'data/names/Portuguese.txt', 'data/names/Polish.txt', 'data/names/Russian.txt', 'data/names/Korean.txt', 'data/names/Japanese.txt', 'data/names/French.txt', 'data/names/Dutch.txt', 'data/names/Chinese.txt', 'data/names/Italian.txt', 'data/names/Greek.txt', 'data/names/Irish.txt', 'data/names/German.txt', 'data/names/English.txt', 'data/names/Czech.txt', 'data/names/Arabic.txt']\n",
            "Slusarski\n"
          ]
        }
      ],
      "source": [
        "from __future__ import unicode_literals, print_function, division\n",
        "from io import open\n",
        "import glob\n",
        "import os\n",
        "\n",
        "def findFiles(path): return glob.glob(path)\n",
        "\n",
        "print(findFiles('data/names/*.txt'))\n",
        "\n",
        "import unicodedata\n",
        "import string\n",
        "\n",
        "all_letters = string.ascii_letters + \" .,;'\"\n",
        "n_letters = len(all_letters)\n",
        "\n",
        "# Turn a Unicode string to plain ASCII, thanks to https://stackoverflow.com/a/518232/2809427\n",
        "def unicodeToAscii(s):\n",
        "    return ''.join(\n",
        "        c for c in unicodedata.normalize('NFD', s)\n",
        "        if unicodedata.category(c) != 'Mn'\n",
        "        and c in all_letters\n",
        "    )\n",
        "\n",
        "print(unicodeToAscii('Ślusàrski'))\n",
        "\n",
        "# Build the category_lines dictionary, a list of names per language\n",
        "category_lines = {}\n",
        "all_categories = []\n",
        "\n",
        "# Read a file and split into lines\n",
        "def readLines(filename):\n",
        "    lines = open(filename, encoding='utf-8').read().strip().split('\\n')\n",
        "    return [unicodeToAscii(line) for line in lines]\n",
        "\n",
        "for filename in findFiles('data/names/*.txt'):\n",
        "    category = os.path.splitext(os.path.basename(filename))[0]\n",
        "    all_categories.append(category)\n",
        "    lines = readLines(filename)\n",
        "    category_lines[category] = lines\n",
        "\n",
        "n_categories = len(all_categories)"
      ]
    },
    {
      "cell_type": "code",
      "source": [],
      "metadata": {
        "id": "urcn57Z9E3dD"
      },
      "id": "urcn57Z9E3dD",
      "execution_count": 270,
      "outputs": []
    },
    {
      "cell_type": "markdown",
      "id": "e58f58a0",
      "metadata": {
        "id": "e58f58a0"
      },
      "source": [
        "Now we have category_lines, a dictionary mapping each category (language) to a list of lines (names). We also kept track of all_categories (just a list of languages) and n_categories for later reference."
      ]
    },
    {
      "cell_type": "code",
      "execution_count": 271,
      "id": "03a992d9",
      "metadata": {
        "colab": {
          "base_uri": "https://localhost:8080/"
        },
        "id": "03a992d9",
        "outputId": "c61cfdd7-732a-4388-a2ce-86313cb70493"
      },
      "outputs": [
        {
          "output_type": "stream",
          "name": "stdout",
          "text": [
            "['Abandonato', 'Abatangelo', 'Abatantuono', 'Abate', 'Abategiovanni']\n"
          ]
        }
      ],
      "source": [
        "print(category_lines['Italian'][:5])"
      ]
    },
    {
      "cell_type": "markdown",
      "id": "6c219cf0",
      "metadata": {
        "id": "6c219cf0"
      },
      "source": [
        "### Turning Names into Tensors\n",
        "Now that we have all the names organized, we need to turn them into Tensors to make any use of them.\n",
        "\n",
        "To represent a single letter, we use a “one-hot vector” of size <1 x n_letters>. A one-hot vector is filled with 0s except for a 1 at index of the current letter, e.g. \"b\" = <0 1 0 0 0 ...>.\n",
        "\n",
        "To make a word we join a bunch of those into a 2D matrix <line_length x 1 x n_letters>.\n",
        "\n",
        "That extra 1 dimension is because PyTorch assumes everything is in batches - we’re just using a batch size of 1 here."
      ]
    },
    {
      "cell_type": "code",
      "execution_count": 272,
      "id": "c479aae7",
      "metadata": {
        "scrolled": true,
        "colab": {
          "base_uri": "https://localhost:8080/"
        },
        "id": "c479aae7",
        "outputId": "b805e58e-a203-493d-ff46-53a15b9b6766"
      },
      "outputs": [
        {
          "output_type": "stream",
          "name": "stdout",
          "text": [
            "tensor([[0., 0., 0., 0., 0., 0., 0., 0., 0., 0., 0., 0., 0., 0., 0., 0., 0., 0.,\n",
            "         0., 0., 0., 0., 0., 0., 0., 0., 0., 0., 0., 0., 0., 0., 0., 0., 0., 1.,\n",
            "         0., 0., 0., 0., 0., 0., 0., 0., 0., 0., 0., 0., 0., 0., 0., 0., 0., 0.,\n",
            "         0., 0., 0.]])\n",
            "torch.Size([5, 1, 57])\n"
          ]
        }
      ],
      "source": [
        "import torch\n",
        "\n",
        "# Find letter index from all_letters, e.g. \"a\" = 0\n",
        "def letterToIndex(letter):\n",
        "    return all_letters.find(letter)\n",
        "\n",
        "# Just for demonstration, turn a letter into a <1 x n_letters> Tensor\n",
        "def letterToTensor(letter):\n",
        "    tensor = torch.zeros(1, n_letters)\n",
        "    tensor[0][letterToIndex(letter)] = 1\n",
        "    return tensor\n",
        "\n",
        "# Turn a line into a <line_length x 1 x n_letters>,\n",
        "# or an array of one-hot letter vectors\n",
        "def lineToTensor(line):\n",
        "    tensor = torch.zeros(len(line), 1, n_letters)\n",
        "    for li, letter in enumerate(line):\n",
        "        tensor[li][0][letterToIndex(letter)] = 1\n",
        "    return tensor\n",
        "\n",
        "print(letterToTensor('J'))\n",
        "\n",
        "print(lineToTensor('Jones').size())"
      ]
    },
    {
      "cell_type": "markdown",
      "id": "8a979493",
      "metadata": {
        "id": "8a979493"
      },
      "source": [
        "### Creating the Network\n",
        "Before autograd, creating a recurrent neural network in Torch involved cloning the parameters of a layer over several timesteps. The layers held hidden state and gradients which are now entirely handled by the graph itself. This means you can implement a RNN in a very “pure” way, as regular feed-forward layers.\n",
        "\n",
        "This RNN module (mostly copied from the PyTorch for Torch users tutorial) is just 2 linear layers which operate on an input and hidden state, with a LogSoftmax layer after the output."
      ]
    },
    {
      "cell_type": "markdown",
      "id": "a5802423",
      "metadata": {
        "id": "a5802423"
      },
      "source": [
        "![rnn.png](attachment:rnn.png)"
      ]
    },
    {
      "cell_type": "code",
      "execution_count": 273,
      "id": "cc618041",
      "metadata": {
        "colab": {
          "base_uri": "https://localhost:8080/"
        },
        "id": "cc618041",
        "outputId": "247d4fc9-f6a5-44b0-d667-2e9ef9164f26"
      },
      "outputs": [
        {
          "output_type": "stream",
          "name": "stdout",
          "text": [
            "RNN(\n",
            "  (i2h): Linear(in_features=185, out_features=128, bias=True)\n",
            "  (i2o): Linear(in_features=185, out_features=18, bias=True)\n",
            "  (softmax): LogSoftmax(dim=1)\n",
            ")\n"
          ]
        }
      ],
      "source": [
        "import torch.nn as nn\n",
        "\n",
        "class RNN(nn.Module):\n",
        "    def __init__(self, input_size, hidden_size, output_size):\n",
        "        super(RNN, self).__init__()\n",
        "\n",
        "        self.hidden_size = hidden_size\n",
        "\n",
        "        self.i2h = nn.Linear(input_size + hidden_size, hidden_size)\n",
        "        self.i2o = nn.Linear(input_size + hidden_size, output_size)\n",
        "        self.softmax = nn.LogSoftmax(dim=1)\n",
        "\n",
        "    def forward(self, input, hidden):\n",
        "        combined = torch.cat((input, hidden), 1)\n",
        "        hidden = self.i2h(combined)\n",
        "        output = self.i2o(combined)\n",
        "        output = self.softmax(output)\n",
        "        return output, hidden\n",
        "\n",
        "    def initHidden(self):\n",
        "        return torch.zeros(1, self.hidden_size)\n",
        "\n",
        "class LSTM(nn.Module):\n",
        "    def __init__(self, input_size, hidden_size, output_size):\n",
        "        super(LSTM, self).__init__()\n",
        "        self.lstm = nn.LSTM(input_size, hidden_size, num_layers=2)\n",
        "        self.linear = nn.Linear(hidden_size, output_size)\n",
        "        self.softmax = nn.LogSoftmax(dim=1)\n",
        "        # print(input_size)\n",
        "\n",
        "    def forward(self, x):\n",
        "        out, (h_n, c_n) = self.lstm(x)\n",
        "        # print(x.shape)\n",
        "        # print(c_n.shape, h_n.shape, x.shape)\n",
        "        out = (self.linear(out[-1]))\n",
        "        # print(x[-1].shape)\n",
        "        out = self.softmax(out)\n",
        "        return out\n",
        "\n",
        "n_hidden = 128\n",
        "rnn = RNN(n_letters, n_hidden, n_categories).to(device)\n",
        "print(rnn)\n",
        "learning_rate = 0.05 # If you set this too high, it might explode. If too low, it might not learn\n"
      ]
    },
    {
      "cell_type": "markdown",
      "id": "9e1fa5ee",
      "metadata": {
        "id": "9e1fa5ee"
      },
      "source": [
        "To run a step of this network we need to pass an input (in our case, the Tensor for the current letter) and a previous hidden state (which we initialize as zeros at first). We’ll get back the output (probability of each language) and a next hidden state (which we keep for the next step)."
      ]
    },
    {
      "cell_type": "code",
      "execution_count": 274,
      "id": "b4b9eecb",
      "metadata": {
        "id": "b4b9eecb"
      },
      "outputs": [],
      "source": [
        "input = letterToTensor('A')\n",
        "hidden = torch.zeros(1, n_hidden).to(device)\n",
        "\n",
        "output, next_hidden = rnn(input.to(device), hidden)"
      ]
    },
    {
      "cell_type": "markdown",
      "id": "eb17c8f1",
      "metadata": {
        "id": "eb17c8f1"
      },
      "source": [
        "For the sake of efficiency we don’t want to be creating a new Tensor for every step, so we will use lineToTensor instead of letterToTensor and use slices. This could be further optimized by pre-computing batches of Tensors."
      ]
    },
    {
      "cell_type": "code",
      "execution_count": 275,
      "id": "b5c2d9ad",
      "metadata": {
        "colab": {
          "base_uri": "https://localhost:8080/"
        },
        "id": "b5c2d9ad",
        "outputId": "aaae9d4c-f6cd-472f-aa93-56f1852e8c7c"
      },
      "outputs": [
        {
          "output_type": "stream",
          "name": "stdout",
          "text": [
            "tensor([[0.0559, 0.0545, 0.0527, 0.0599, 0.0581, 0.0503, 0.0588, 0.0551, 0.0542,\n",
            "         0.0530, 0.0580, 0.0614, 0.0518, 0.0586, 0.0522, 0.0554, 0.0598, 0.0502]],\n",
            "       device='cuda:0', grad_fn=<ExpBackward0>)\n"
          ]
        }
      ],
      "source": [
        "input = lineToTensor('Albert')\n",
        "hidden = torch.zeros(1, n_hidden).to(device)\n",
        "\n",
        "output, next_hidden = rnn(input[0].to(device), hidden)\n",
        "print(torch.exp(output))"
      ]
    },
    {
      "cell_type": "markdown",
      "id": "7cf3d70c",
      "metadata": {
        "id": "7cf3d70c"
      },
      "source": [
        "As you can see the output is a <1 x n_categories> Tensor, where every item is the likelihood of that category (higher is more likely)."
      ]
    },
    {
      "cell_type": "markdown",
      "id": "5b07c378",
      "metadata": {
        "id": "5b07c378"
      },
      "source": [
        "### Preparing for Training\n",
        "Before going into training we should make a few helper functions. The first is to interpret the output of the network, which we know to be a likelihood of each category. We can use Tensor.topk to get the index of the greatest value:"
      ]
    },
    {
      "cell_type": "code",
      "execution_count": 276,
      "id": "0fa90972",
      "metadata": {
        "colab": {
          "base_uri": "https://localhost:8080/"
        },
        "id": "0fa90972",
        "outputId": "ba8e7e8f-6007-487c-eda6-2211c90e02bb"
      },
      "outputs": [
        {
          "output_type": "stream",
          "name": "stdout",
          "text": [
            "('Italian', 11)\n"
          ]
        }
      ],
      "source": [
        "def categoryFromOutput(output):\n",
        "    top_n, top_i = output.topk(1)\n",
        "    category_i = top_i[0].item()\n",
        "    return all_categories[category_i], category_i\n",
        "\n",
        "print(categoryFromOutput(output))"
      ]
    },
    {
      "cell_type": "markdown",
      "id": "627e3f73",
      "metadata": {
        "id": "627e3f73"
      },
      "source": [
        "We will also want a quick way to get a training example (a name and its language):"
      ]
    },
    {
      "cell_type": "code",
      "execution_count": 277,
      "id": "2c3ee352",
      "metadata": {
        "colab": {
          "base_uri": "https://localhost:8080/"
        },
        "id": "2c3ee352",
        "outputId": "3ecf2318-2fe0-4376-bba3-739da083d009"
      },
      "outputs": [
        {
          "output_type": "stream",
          "name": "stdout",
          "text": [
            "category = Portuguese / line = Ferreiro\n",
            "category = French / line = Courtemanche\n",
            "category = English / line = Dewar\n",
            "category = Greek / line = Christakos\n",
            "category = Dutch / line = Rademaker\n",
            "category = English / line = Weir\n",
            "category = Chinese / line = Jin\n",
            "category = Italian / line = Agnellutti\n",
            "category = Scottish / line = Hamilton\n",
            "category = French / line = Sault\n"
          ]
        }
      ],
      "source": [
        "import random\n",
        "\n",
        "def randomChoice(l):\n",
        "    return l[random.randint(0, len(l) - 1)]\n",
        "\n",
        "def randomTrainingExample():\n",
        "    category = randomChoice(all_categories)\n",
        "    line = randomChoice(category_lines[category])\n",
        "    category_tensor = torch.tensor([all_categories.index(category)], dtype=torch.long)\n",
        "    line_tensor = lineToTensor(line)\n",
        "    return category, line, category_tensor, line_tensor\n",
        "\n",
        "for i in range(10):\n",
        "    category, line, category_tensor, line_tensor = randomTrainingExample()\n",
        "    print('category =', category, '/ line =', line)"
      ]
    },
    {
      "cell_type": "markdown",
      "source": [
        "### Use LSTM instead"
      ],
      "metadata": {
        "id": "-AUPWaEzfX6P"
      },
      "id": "-AUPWaEzfX6P"
    },
    {
      "cell_type": "code",
      "source": [
        "#please comment the whole block if you use original RNN\n",
        "\n",
        "learning_rate = 0.05 # If you set this too high, it might explode. If too low, it might not learn\n",
        "rnn = LSTM(n_letters, n_hidden, n_categories).to(device)\n",
        "optimizer = torch.optim.SGD(rnn.parameters(), lr=learning_rate)\n",
        "print(rnn)"
      ],
      "metadata": {
        "colab": {
          "base_uri": "https://localhost:8080/"
        },
        "id": "iKf3hIwVfbEq",
        "outputId": "1fc9a50a-9354-4880-c638-e0c9050e6fb3"
      },
      "id": "iKf3hIwVfbEq",
      "execution_count": 278,
      "outputs": [
        {
          "output_type": "stream",
          "name": "stdout",
          "text": [
            "LSTM(\n",
            "  (lstm): LSTM(57, 128, num_layers=2)\n",
            "  (linear): Linear(in_features=128, out_features=18, bias=True)\n",
            "  (softmax): LogSoftmax(dim=1)\n",
            ")\n"
          ]
        }
      ]
    },
    {
      "cell_type": "markdown",
      "id": "c40c4996",
      "metadata": {
        "id": "c40c4996"
      },
      "source": [
        "### Training the Network\n",
        "Now all it takes to train this network is show it a bunch of examples, have it make guesses, and tell it if it’s wrong.\n",
        "\n",
        "For the loss function nn.NLLLoss is appropriate, since the last layer of the RNN is nn.LogSoftmax."
      ]
    },
    {
      "cell_type": "code",
      "execution_count": 279,
      "id": "122bdeff",
      "metadata": {
        "id": "122bdeff"
      },
      "outputs": [],
      "source": [
        "criterion = nn.NLLLoss()"
      ]
    },
    {
      "cell_type": "markdown",
      "id": "e304bb71",
      "metadata": {
        "id": "e304bb71"
      },
      "source": [
        "Each loop of training will:\n",
        "\n",
        "- Create input and target tensors\n",
        "- Create a zeroed initial hidden state\n",
        "- Read each letter in and keep hidden state for next letter\n",
        "- Compare final output to target\n",
        "- Back-propagate\n",
        "- Return the output and loss"
      ]
    },
    {
      "cell_type": "code",
      "execution_count": 280,
      "id": "602ea715",
      "metadata": {
        "id": "602ea715"
      },
      "outputs": [],
      "source": [
        "\n",
        "def train(category_tensor, line_tensor):\n",
        "    # comment these when using LSTM\n",
        "    # hidden = rnn.initHidden().to(line_tensor.device)\n",
        "\n",
        "    # rnn.zero_grad()\n",
        "\n",
        "    # for i in range(line_tensor.size()[0]):\n",
        "    #     output, hidden = rnn(line_tensor[i], hidden)\n",
        "\n",
        "    optimizer.zero_grad()\n",
        "    output = rnn(line_tensor)\n",
        "    loss = criterion(output, category_tensor)\n",
        "    loss.backward()\n",
        "    optimizer.step()\n",
        "\n",
        "    # Add parameters' gradients to their values, multiplied by learning rate\n",
        "    # comment these when using LSTM\n",
        "    # for p in rnn.parameters():\n",
        "    #     p.data.add_(p.grad.data, alpha=-learning_rate)\n",
        "\n",
        "    return output, loss.item()"
      ]
    },
    {
      "cell_type": "markdown",
      "id": "eed19e81",
      "metadata": {
        "id": "eed19e81"
      },
      "source": [
        "Now we just have to run that with a bunch of examples. Since the train function returns both the output and loss we can print its guesses and also keep track of loss for plotting. Since there are 1000s of examples we print only every print_every examples, and take an average of the loss."
      ]
    },
    {
      "cell_type": "code",
      "execution_count": 281,
      "id": "e0dfe2c3",
      "metadata": {
        "colab": {
          "base_uri": "https://localhost:8080/"
        },
        "id": "e0dfe2c3",
        "outputId": "56a97923-74b4-446b-ede1-77ca2a6458c3"
      },
      "outputs": [
        {
          "output_type": "stream",
          "name": "stdout",
          "text": [
            "5000 5% (0m 8s) 2.1331 Reasbeck / English ✓\n",
            "10000 10% (0m 16s) 2.7741 Barros / Dutch ✗ (Spanish)\n",
            "15000 15% (0m 24s) 1.1066 Yap / Chinese ✓\n",
            "20000 20% (0m 32s) 1.6516 Soares / Portuguese ✓\n",
            "25000 25% (0m 39s) 0.9406 Mccallum / Scottish ✓\n",
            "30000 30% (0m 48s) 0.4884 Gabrisova / Czech ✓\n",
            "35000 35% (0m 55s) 0.6199 Koury / Arabic ✓\n",
            "40000 40% (1m 3s) 0.5149 Szweda / Polish ✓\n",
            "45000 45% (1m 12s) 6.0602 Peerenboom / Scottish ✗ (Dutch)\n",
            "50000 50% (1m 19s) 0.1174 Cho / Korean ✓\n",
            "55000 55% (1m 27s) 0.0789 Rosario / Portuguese ✓\n",
            "60000 60% (1m 35s) 0.2569 Kumiega / Polish ✓\n",
            "65000 65% (1m 43s) 0.2589 Piatek / Polish ✓\n",
            "70000 70% (1m 52s) 0.1935 Cao / Vietnamese ✓\n",
            "75000 75% (1m 59s) 0.0074 Litovchenko / Russian ✓\n",
            "80000 80% (2m 8s) 3.1464 Denend / French ✗ (Dutch)\n",
            "85000 85% (2m 16s) 1.3369 Jagoda / Japanese ✗ (Polish)\n",
            "90000 90% (2m 24s) 0.0229 De palma / Italian ✓\n",
            "95000 95% (2m 32s) 0.0114 Huan / Chinese ✓\n",
            "100000 100% (2m 39s) 0.0032 Klerx / Dutch ✓\n"
          ]
        }
      ],
      "source": [
        "import time\n",
        "import math\n",
        "\n",
        "n_iters = 100000\n",
        "print_every = 5000\n",
        "plot_every = 1000\n",
        "\n",
        "\n",
        "\n",
        "# Keep track of losses for plotting\n",
        "current_loss = 0\n",
        "all_losses = []\n",
        "all_accurancy = []\n",
        "def timeSince(since):\n",
        "    now = time.time()\n",
        "    s = now - since\n",
        "    m = math.floor(s / 60)\n",
        "    s -= m * 60\n",
        "    return '%dm %ds' % (m, s)\n",
        "\n",
        "start = time.time()\n",
        "correct_num = 0\n",
        "for iter in range(1, n_iters + 1):\n",
        "    category, line, category_tensor, line_tensor = randomTrainingExample()\n",
        "    category_tensor = category_tensor.to(device)  # 将category_tensor移动到CUDA设备上\n",
        "    line_tensor = line_tensor.to(device)  # 将line_tensor移动到CUDA设备上\n",
        "    output, loss = train(category_tensor, line_tensor)\n",
        "\n",
        "    current_loss += loss\n",
        "    guess, guess_i = categoryFromOutput(output)\n",
        "    if guess == category:\n",
        "        correct_num += 1\n",
        "\n",
        "    # Print iter number, loss, name and guess\n",
        "    if iter % print_every == 0:\n",
        "        #guess, guess_i = categoryFromOutput(output)\n",
        "\n",
        "        correct = '✓' if guess == category else '✗ (%s)' % category\n",
        "        print('%d %d%% (%s) %.4f %s / %s %s' % (iter, iter / n_iters * 100, timeSince(start), loss, line, guess, correct))\n",
        "\n",
        "    # Add current loss avg to list of losses\n",
        "    if iter % plot_every == 0:\n",
        "        all_losses.append(current_loss / plot_every)\n",
        "        all_accurancy.append(correct_num / plot_every)\n",
        "        current_loss = 0\n",
        "        correct_num = 0"
      ]
    },
    {
      "cell_type": "markdown",
      "id": "9919c0b4",
      "metadata": {
        "id": "9919c0b4"
      },
      "source": [
        "### Plotting the Results\n",
        "Plotting the historical loss from all_losses shows the network learning:"
      ]
    },
    {
      "cell_type": "code",
      "execution_count": 282,
      "id": "5533ea72",
      "metadata": {
        "colab": {
          "base_uri": "https://localhost:8080/",
          "height": 452
        },
        "id": "5533ea72",
        "outputId": "ed56a68b-7b80-4bc4-9575-a7d7ef0f0996"
      },
      "outputs": [
        {
          "output_type": "display_data",
          "data": {
            "text/plain": [
              "<Figure size 640x480 with 1 Axes>"
            ],
            "image/png": "[encoded data removed]"
          },
          "metadata": {}
        }
      ],
      "source": [
        "import matplotlib.pyplot as plt\n",
        "import matplotlib.ticker as ticker\n",
        "\n",
        "plt.figure()\n",
        "plt.plot(all_losses)\n",
        "plt.title('Loss')\n",
        "plt.show()"
      ]
    },
    {
      "cell_type": "markdown",
      "source": [
        "### Accuracy Plot"
      ],
      "metadata": {
        "id": "ArVNy-sbN60N"
      },
      "id": "ArVNy-sbN60N"
    },
    {
      "cell_type": "code",
      "source": [
        "# Plot accuracy curve\n",
        "plt.figure()\n",
        "plt.plot(all_accurancy)\n",
        "plt.title('Accuracy')\n",
        "plt.show()"
      ],
      "metadata": {
        "colab": {
          "base_uri": "https://localhost:8080/",
          "height": 452
        },
        "id": "yDk4cHgXOBVF",
        "outputId": "094b3aef-b9af-4db2-dba2-d2b3f366b01f"
      },
      "id": "yDk4cHgXOBVF",
      "execution_count": 283,
      "outputs": [
        {
          "output_type": "display_data",
          "data": {
            "text/plain": [
              "<Figure size 640x480 with 1 Axes>"
            ],
            "image/png": "[encoded data removed]"
          },
          "metadata": {}
        }
      ]
    },
    {
      "cell_type": "markdown",
      "id": "44d8a092",
      "metadata": {
        "id": "44d8a092"
      },
      "source": [
        "### Evaluating the Results\n",
        "To see how well the network performs on different categories, we will create a confusion matrix, indicating for every actual language (rows) which language the network guesses (columns). To calculate the confusion matrix a bunch of samples are run through the network with evaluate(), which is the same as train() minus the backprop."
      ]
    },
    {
      "cell_type": "code",
      "execution_count": 286,
      "id": "71e6c595",
      "metadata": {
        "scrolled": true,
        "colab": {
          "base_uri": "https://localhost:8080/",
          "height": 578
        },
        "id": "71e6c595",
        "outputId": "abd09903-75af-4db0-f412-714d3625571a"
      },
      "outputs": [
        {
          "output_type": "stream",
          "name": "stderr",
          "text": [
            "<ipython-input-286-73e983693d13>:40: UserWarning: FixedFormatter should only be used together with FixedLocator\n",
            "  ax.set_xticklabels([''] + all_categories, rotation=90)\n",
            "<ipython-input-286-73e983693d13>:41: UserWarning: FixedFormatter should only be used together with FixedLocator\n",
            "  ax.set_yticklabels([''] + all_categories)\n"
          ]
        },
        {
          "output_type": "display_data",
          "data": {
            "text/plain": [
              "<Figure size 640x480 with 2 Axes>"
            ],
            "image/png": "[encoded data removed]"
          },
          "metadata": {}
        }
      ],
      "source": [
        "# Keep track of correct guesses in a confusion matrix\n",
        "confusion = torch.zeros(n_categories, n_categories).to(device)  # 将confusion移动到CUDA设备上\n",
        "n_confusion = 10000\n",
        "\n",
        "# Just return an output given a line\n",
        "def evaluate(line_tensor):\n",
        "    # comment these when using LSTM\n",
        "\n",
        "    # hidden = rnn.initHidden().to(device)  # 将hidden移动到CUDA设备上\n",
        "\n",
        "    # for i in range(line_tensor.size()[0]):\n",
        "    #     output, hidden = rnn(line_tensor[i], hidden)\n",
        "\n",
        "    #comment the following line when using the original RNN\n",
        "    output = rnn(line_tensor)\n",
        "    return output\n",
        "\n",
        "# Go through a bunch of examples and record which are correctly guessed\n",
        "for i in range(n_confusion):\n",
        "    category, line, category_tensor, line_tensor = randomTrainingExample()\n",
        "    category_tensor = category_tensor.to(device)  # 将category_tensor移动到CUDA设备上\n",
        "    line_tensor = line_tensor.to(device)  # 将line_tensor移动到CUDA设备上\n",
        "\n",
        "    output = evaluate(line_tensor)\n",
        "    guess, guess_i = categoryFromOutput(output)\n",
        "    category_i = all_categories.index(category)\n",
        "    confusion[category_i][guess_i] += 1\n",
        "\n",
        "# Normalize by dividing every row by its sum\n",
        "for i in range(n_categories):\n",
        "    confusion[i] = confusion[i] / confusion[i].sum()\n",
        "\n",
        "# Set up plot\n",
        "fig = plt.figure()\n",
        "ax = fig.add_subplot(111)\n",
        "cax = ax.matshow(confusion.cpu().numpy())  # 将confusion移动到CPU设备并转换为NumPy数组\n",
        "fig.colorbar(cax)\n",
        "\n",
        "# Set up axes\n",
        "ax.set_xticklabels([''] + all_categories, rotation=90)\n",
        "ax.set_yticklabels([''] + all_categories)\n",
        "\n",
        "# Force label at every tick\n",
        "ax.xaxis.set_major_locator(ticker.MultipleLocator(1))\n",
        "ax.yaxis.set_major_locator(ticker.MultipleLocator(1))\n",
        "\n",
        "# sphinx_gallery_thumbnail_number = 2\n",
        "plt.show()\n"
      ]
    },
    {
      "cell_type": "markdown",
      "id": "b65115e1",
      "metadata": {
        "id": "b65115e1"
      },
      "source": [
        "You can pick out bright spots off the main axis that show which languages it guesses incorrectly, e.g. Chinese for Korean, and Spanish for Italian. It seems to do very well with Greek, and very poorly with English (perhaps because of overlap with other languages)."
      ]
    },
    {
      "cell_type": "markdown",
      "id": "dfe1c01e",
      "metadata": {
        "id": "dfe1c01e"
      },
      "source": [
        "### Running on User Input"
      ]
    },
    {
      "cell_type": "code",
      "execution_count": 287,
      "id": "23a19ee4",
      "metadata": {
        "colab": {
          "base_uri": "https://localhost:8080/"
        },
        "id": "23a19ee4",
        "outputId": "6ebc5703-e823-44b6-8c84-a2f2c6187834"
      },
      "outputs": [
        {
          "output_type": "stream",
          "name": "stdout",
          "text": [
            "\n",
            "> Dovesky\n",
            "(0.59) Russian\n",
            "(0.39) Czech\n",
            "(0.02) English\n",
            "\n",
            "> Jackson\n",
            "(0.40) Scottish\n",
            "(0.26) Russian\n",
            "(0.16) English\n",
            "\n",
            "> Hou\n",
            "(0.97) Chinese\n",
            "(0.03) Korean\n",
            "(0.00) Vietnamese\n"
          ]
        }
      ],
      "source": [
        "import math\n",
        "import numpy as np\n",
        "\n",
        "def predict(input_line, n_predictions=3):\n",
        "    print('\\n> %s' % input_line)\n",
        "    with torch.no_grad():\n",
        "        line_tensor = lineToTensor(input_line).to(device)  # 将line_tensor移动到CUDA设备上\n",
        "        output = evaluate(line_tensor)\n",
        "        output = output.cpu()  # 将output移动到CPU设备上\n",
        "\n",
        "        # Get top N categories\n",
        "        topv, topi = output.topk(n_predictions, 1, True)\n",
        "        predictions = []\n",
        "\n",
        "        for i in range(n_predictions):\n",
        "            value = topv[0][i].item()\n",
        "            category_index = topi[0][i].item()\n",
        "            print('(%.2f) %s' % (np.exp(value), all_categories[category_index]))\n",
        "            predictions.append([value, all_categories[category_index]])\n",
        "\n",
        "predict('Dovesky')\n",
        "predict('Jackson')\n",
        "predict('Hou')\n"
      ]
    },
    {
      "cell_type": "code",
      "execution_count": 287,
      "id": "3a170e12",
      "metadata": {
        "id": "3a170e12"
      },
      "outputs": [],
      "source": []
    }
  ],
  "metadata": {
    "kernelspec": {
      "display_name": "Python 3",
      "name": "python3"
    },
    "language_info": {
      "name": "python"
    },
    "colab": {
      "provenance": [],
      "gpuType": "T4"
    },
    "accelerator": "GPU"
  },
  "nbformat": 4,
  "nbformat_minor": 5
}