{
 "cells": [
  {
   "cell_type": "code",
   "execution_count": 1,
   "id": "3fb378c3",
   "metadata": {
    "execution": {
     "iopub.execute_input": "2023-05-31T08:46:47.541534Z",
     "iopub.status.busy": "2023-05-31T08:46:47.541079Z",
     "iopub.status.idle": "2023-05-31T08:47:37.923987Z",
     "shell.execute_reply": "2023-05-31T08:47:37.923032Z"
    },
    "executionInfo": {
     "elapsed": 2844,
     "status": "ok",
     "timestamp": 1684409199330,
     "user": {
      "displayName": "RUIYING CHEN",
      "userId": "09384040230747805046"
     },
     "user_tz": -480
    },
    "id": "wHsFZo6akD8M",
    "outputId": "d017ea14-1ff6-429f-d7da-2f6ad9e82ec1",
    "papermill": {
     "duration": 50.396408,
     "end_time": "2023-05-31T08:47:37.926397",
     "exception": false,
     "start_time": "2023-05-31T08:46:47.529989",
     "status": "completed"
    },
    "tags": []
   },
   "outputs": [],
   "source": [
    "import torch\n",
    "import torchvision\n",
    "import torchvision.transforms as transforms\n",
    "\n",
    "transform = transforms.Compose([transforms.ToTensor(), transforms.Normalize((0.5, 0.5, 0.5), (0.5, 0.5, 0.5))])\n",
    "batch_size = 4\n",
    "\n",
    "device=\"cuda\"\n",
    "\n",
    "#uncomment when using colab or local cpu\n",
    "# train_dataset = torchvision.datasets.cifar.CIFAR100(root='cifar100', train=True, transform=transform, download=True)\n",
    "# test_dataset = torchvision.datasets.cifar.CIFAR100(root='cifar100', train=False, transform=transform, download=True)\n",
    "# train_loader = torch.utils.data.DataLoader(train_dataset, batch_size=batch_size, shuffle=True, num_workers=2)\n",
    "# test_loader = torch.utils.data.DataLoader(test_dataset, batch_size=batch_size, shuffle=False, num_workers=2)\n",
    "\n",
    "#uncomment when using kaggle\n",
    "\n",
    "train_dataset = torchvision.datasets.ImageFolder(\"/kaggle/input/cifar10/cifar10/train\", transform=transform)\n",
    "\n",
    "test_dataset = torchvision.datasets.ImageFolder(\"/kaggle/input/cifar10/cifar10/test\", transform=transform)\n",
    "\n",
    "train_loader = torch.utils.data.DataLoader(train_dataset, batch_size=batch_size, shuffle=True, num_workers=2)\n",
    "\n",
    "test_loader = torch.utils.data.DataLoader(test_dataset, batch_size=batch_size, shuffle=False, num_workers=2)"
   ]
  },
  {
   "cell_type": "code",
   "execution_count": 2,
   "id": "e99e7359",
   "metadata": {
    "execution": {
     "iopub.execute_input": "2023-05-31T08:47:37.940269Z",
     "iopub.status.busy": "2023-05-31T08:47:37.939775Z",
     "iopub.status.idle": "2023-05-31T08:47:38.319250Z",
     "shell.execute_reply": "2023-05-31T08:47:38.318139Z"
    },
    "executionInfo": {
     "elapsed": 8,
     "status": "ok",
     "timestamp": 1684409199330,
     "user": {
      "displayName": "RUIYING CHEN",
      "userId": "09384040230747805046"
     },
     "user_tz": -480
    },
    "id": "VjkCK8NykPMb",
    "outputId": "d8b6db1d-275c-4979-f5c6-411c763dea3f",
    "papermill": {
     "duration": 0.390188,
     "end_time": "2023-05-31T08:47:38.323121",
     "exception": false,
     "start_time": "2023-05-31T08:47:37.932933",
     "status": "completed"
    },
    "tags": []
   },
   "outputs": [
    {
     "data": {
      "image/png": "[encoded data removed]",
      "text/plain": [
       "<Figure size 640x480 with 1 Axes>"
      ]
     },
     "metadata": {},
     "output_type": "display_data"
    },
    {
     "name": "stdout",
     "output_type": "stream",
     "text": [
      "torch.Size([4])\n"
     ]
    }
   ],
   "source": [
    "import matplotlib.pyplot as plt\n",
    "import numpy as np\n",
    "\n",
    "# functions to show an image\n",
    "\n",
    "\n",
    "def imshow(img):\n",
    "    img = img / 2 + 0.5     # unnormalize\n",
    "    npimg = img.numpy()\n",
    "    plt.imshow(np.transpose(npimg, (1, 2, 0)))\n",
    "    plt.show()\n",
    "\n",
    "\n",
    "# get some random training images\n",
    "dataiter = iter(train_loader)\n",
    "# images, labels = dataiter.next()\n",
    "images, labels = next(dataiter)\n",
    "\n",
    "# show images\n",
    "imshow(torchvision.utils.make_grid(images))\n",
    "# print labels\n",
    "print(labels.shape)"
   ]
  },
  {
   "cell_type": "markdown",
   "id": "81699c9c",
   "metadata": {
    "papermill": {
     "duration": 0.006707,
     "end_time": "2023-05-31T08:47:38.336636",
     "exception": false,
     "start_time": "2023-05-31T08:47:38.329929",
     "status": "completed"
    },
    "tags": []
   },
   "source": [
    "## ResNet"
   ]
  },
  {
   "cell_type": "code",
   "execution_count": 3,
   "id": "f386d614",
   "metadata": {
    "execution": {
     "iopub.execute_input": "2023-05-31T08:47:38.352320Z",
     "iopub.status.busy": "2023-05-31T08:47:38.351995Z",
     "iopub.status.idle": "2023-05-31T08:47:38.380550Z",
     "shell.execute_reply": "2023-05-31T08:47:38.379698Z"
    },
    "executionInfo": {
     "elapsed": 7,
     "status": "ok",
     "timestamp": 1684409199331,
     "user": {
      "displayName": "RUIYING CHEN",
      "userId": "09384040230747805046"
     },
     "user_tz": -480
    },
    "id": "1mY2iwmCkcpA",
    "papermill": {
     "duration": 0.039374,
     "end_time": "2023-05-31T08:47:38.382641",
     "exception": false,
     "start_time": "2023-05-31T08:47:38.343267",
     "status": "completed"
    },
    "tags": []
   },
   "outputs": [],
   "source": [
    "import torch.nn as nn\n",
    "import torch.nn.functional as F\n",
    "\n",
    "class BasicBlock(nn.Module):\n",
    "    expansion = 1\n",
    "\n",
    "    def __init__(self, in_channel, out_channel, stride=1, downsample=None, **kwargs):\n",
    "        super(BasicBlock, self).__init__()\n",
    "        self.conv1 = nn.Conv2d(in_channels=in_channel, out_channels=out_channel,\n",
    "                               kernel_size=3, stride=stride, padding=1, bias=False)\n",
    "        self.bn1 = nn.BatchNorm2d(out_channel)\n",
    "        self.relu = nn.ReLU()\n",
    "        self.conv2 = nn.Conv2d(in_channels=out_channel, out_channels=out_channel,\n",
    "                               kernel_size=3, stride=1, padding=1, bias=False)\n",
    "        self.bn2 = nn.BatchNorm2d(out_channel)\n",
    "        self.downsample = downsample\n",
    "\n",
    "    def forward(self, x):\n",
    "        identity = x\n",
    "        if self.downsample is not None:\n",
    "            identity = self.downsample(x)\n",
    "\n",
    "        out = self.conv1(x)\n",
    "        out = self.bn1(out)\n",
    "        out = self.relu(out)\n",
    "\n",
    "        out = self.conv2(out)\n",
    "        out = self.bn2(out)\n",
    "\n",
    "        out += identity\n",
    "        out = self.relu(out)\n",
    "\n",
    "        return out\n",
    "\n",
    "\n",
    "class Bottleneck(nn.Module):\n",
    "\n",
    "    expansion = 4\n",
    "\n",
    "    def __init__(self, in_channel, out_channel, stride=1, downsample=None, groups=1, width_per_group=64):\n",
    "        super(Bottleneck, self).__init__()\n",
    "\n",
    "        width = int(out_channel * (width_per_group / 64.)) * groups\n",
    "\n",
    "        self.conv1 = nn.Conv2d(in_channels=in_channel, out_channels=width,\n",
    "                               kernel_size=1, stride=1, bias=False)  # squeeze channels\n",
    "        self.bn1 = nn.BatchNorm2d(width)\n",
    "        # -----------------------------------------\n",
    "        self.conv2 = nn.Conv2d(in_channels=width, out_channels=width, groups=groups,\n",
    "                               kernel_size=3, stride=stride, bias=False, padding=1)\n",
    "        self.bn2 = nn.BatchNorm2d(width)\n",
    "        # -----------------------------------------\n",
    "        self.conv3 = nn.Conv2d(in_channels=width, out_channels=out_channel*self.expansion,\n",
    "                               kernel_size=1, stride=1, bias=False)  # unsqueeze channels\n",
    "        self.bn3 = nn.BatchNorm2d(out_channel*self.expansion)\n",
    "        self.relu = nn.ReLU(inplace=True)\n",
    "        self.downsample = downsample\n",
    "\n",
    "    def forward(self, x):\n",
    "        identity = x\n",
    "        if self.downsample is not None:\n",
    "            identity = self.downsample(x)\n",
    "\n",
    "        out = self.conv1(x)\n",
    "        out = self.bn1(out)\n",
    "        out = self.relu(out)\n",
    "\n",
    "        out = self.conv2(out)\n",
    "        out = self.bn2(out)\n",
    "        out = self.relu(out)\n",
    "\n",
    "        out = self.conv3(out)\n",
    "        out = self.bn3(out)\n",
    "\n",
    "        out += identity\n",
    "        out = self.relu(out)\n",
    "\n",
    "        return out\n",
    "\n",
    "\n",
    "class ResNet(nn.Module):\n",
    "\n",
    "    def __init__(self, block, blocks_num, num_classes=1000):\n",
    "        super(ResNet, self).__init__()\n",
    "        self.in_channel = 64\n",
    "\n",
    "        self.conv1 = nn.Conv2d(3, self.in_channel, kernel_size=7, stride=2, padding=3, bias=False)\n",
    "        self.bn1 = nn.BatchNorm2d(self.in_channel)\n",
    "        self.relu = nn.ReLU(inplace=True)\n",
    "        self.maxpool = nn.MaxPool2d(kernel_size=3, stride=2, padding=1)\n",
    "        self.layer1 = self._make_layer(block, 64, blocks_num[0])\n",
    "        self.layer2 = self._make_layer(block, 128, blocks_num[1], stride=2)\n",
    "        self.layer3 = self._make_layer(block, 256, blocks_num[2], stride=2)\n",
    "        self.layer4 = self._make_layer(block, 512, blocks_num[3], stride=2)\n",
    "        self.avgpool = nn.AdaptiveAvgPool2d((1, 1))\n",
    "        self.fc = nn.Linear(512 * block.expansion, num_classes)\n",
    "\n",
    "    def _make_layer(self, block, channel, block_num, stride=1):\n",
    "        downsample = None\n",
    "        if stride != 1 or self.in_channel != channel * block.expansion:\n",
    "            downsample = nn.Sequential(\n",
    "                nn.Conv2d(self.in_channel, channel * block.expansion, kernel_size=1, stride=stride, bias=False),\n",
    "                nn.BatchNorm2d(channel * block.expansion))\n",
    "\n",
    "        layers = []\n",
    "        layers.append(block(self.in_channel,\n",
    "                            channel,\n",
    "                            downsample=downsample,\n",
    "                            stride=stride))\n",
    "        self.in_channel = channel * block.expansion\n",
    "\n",
    "        for _ in range(1, block_num):\n",
    "            layers.append(block(self.in_channel, channel))\n",
    "\n",
    "        return nn.Sequential(*layers)\n",
    "\n",
    "    def forward(self, x):\n",
    "        x = self.conv1(x)\n",
    "        x = self.bn1(x)\n",
    "        x = self.relu(x)\n",
    "        x = self.maxpool(x)\n",
    "\n",
    "        x = self.layer1(x)\n",
    "        x = self.layer2(x)\n",
    "        x = self.layer3(x)\n",
    "        x = self.layer4(x)\n",
    "\n",
    "        x = self.avgpool(x)\n",
    "        x = torch.flatten(x, 1)\n",
    "        x = self.fc(x)\n",
    "\n",
    "        return x\n",
    "\n",
    "\n",
    "def resnet34(num_classes=10):\n",
    "    return ResNet(BasicBlock, [3, 4, 6, 3], num_classes=num_classes)\n",
    "\n",
    "def resnet18(num_classes=10):\n",
    "    return ResNet(BasicBlock, [2, 2, 2, 2], num_classes=num_classes)\n",
    "\n",
    "\n",
    "# print(net)"
   ]
  },
  {
   "cell_type": "markdown",
   "id": "206a5bd0",
   "metadata": {
    "papermill": {
     "duration": 0.006465,
     "end_time": "2023-05-31T08:47:38.395740",
     "exception": false,
     "start_time": "2023-05-31T08:47:38.389275",
     "status": "completed"
    },
    "tags": []
   },
   "source": [
    "## 原始CNN"
   ]
  },
  {
   "cell_type": "code",
   "execution_count": 4,
   "id": "4b779b35",
   "metadata": {
    "execution": {
     "iopub.execute_input": "2023-05-31T08:47:38.410383Z",
     "iopub.status.busy": "2023-05-31T08:47:38.409728Z",
     "iopub.status.idle": "2023-05-31T08:47:38.417723Z",
     "shell.execute_reply": "2023-05-31T08:47:38.416761Z"
    },
    "papermill": {
     "duration": 0.01753,
     "end_time": "2023-05-31T08:47:38.419730",
     "exception": false,
     "start_time": "2023-05-31T08:47:38.402200",
     "status": "completed"
    },
    "tags": []
   },
   "outputs": [],
   "source": [
    "class Net(nn.Module):\n",
    "    def __init__(self):\n",
    "        super().__init__()\n",
    "        self.conv1 = nn.Conv2d(3, 6, 5)   # kernel_size=5, padding=2, stride=1\n",
    "        self.pool = nn.MaxPool2d(2, 2)\n",
    "        self.conv2 = nn.Conv2d(6, 16, 5)\n",
    "        self.fc1 = nn.Linear(16 * 5 * 5, 120)\n",
    "        self.fc2 = nn.Linear(120, 84)\n",
    "        self.fc3 = nn.Linear(84, 10)\n",
    "\n",
    "    def forward(self, x):\n",
    "        # x = self.conv1(x)\n",
    "        # print(\"output shape of conv1:\", x.size())\n",
    "        # x = self.F.relu(x)\n",
    "        \n",
    "        # x = self.pool(x)\n",
    "        \n",
    "        \n",
    "        x = self.pool(F.relu(self.conv1(x)))\n",
    "        x = self.pool(F.relu(self.conv2(x)))\n",
    "        x = torch.flatten(x, 1) # flatten all dimensions except batch\n",
    "        x = F.relu(self.fc1(x))\n",
    "        x = F.relu(self.fc2(x))\n",
    "        x = self.fc3(x)\n",
    "        return x\n",
    "\n",
    "\n"
   ]
  },
  {
   "cell_type": "markdown",
   "id": "545e63c0",
   "metadata": {
    "papermill": {
     "duration": 0.006181,
     "end_time": "2023-05-31T08:47:38.432443",
     "exception": false,
     "start_time": "2023-05-31T08:47:38.426262",
     "status": "completed"
    },
    "tags": []
   },
   "source": [
    "## SE-ResNet"
   ]
  },
  {
   "cell_type": "code",
   "execution_count": 5,
   "id": "a71740df",
   "metadata": {
    "execution": {
     "iopub.execute_input": "2023-05-31T08:47:38.446817Z",
     "iopub.status.busy": "2023-05-31T08:47:38.446524Z",
     "iopub.status.idle": "2023-05-31T08:47:38.469736Z",
     "shell.execute_reply": "2023-05-31T08:47:38.468804Z"
    },
    "papermill": {
     "duration": 0.033018,
     "end_time": "2023-05-31T08:47:38.471833",
     "exception": false,
     "start_time": "2023-05-31T08:47:38.438815",
     "status": "completed"
    },
    "tags": []
   },
   "outputs": [],
   "source": [
    "import torch\n",
    "import torch.nn as nn\n",
    "import torch.nn.functional as F\n",
    "\n",
    "class ResidualBlock(nn.Module):\n",
    "    def __init__(self, inchannel, outchannel, stride=1): #需要确定输入维度和输出维度，步长默认为1\n",
    "        super(ResidualBlock, self).__init__()\n",
    "        #################\n",
    "        if outchannel == 64:\n",
    "            self.globalAvgPool = nn.AvgPool2d(32, stride=1)\n",
    "        elif outchannel == 128:\n",
    "            self.globalAvgPool = nn.AvgPool2d(16, stride=1)\n",
    "        elif outchannel == 256:\n",
    "            self.globalAvgPool = nn.AvgPool2d(8, stride=1)\n",
    "        elif outchannel == 512:\n",
    "            self.globalAvgPool = nn.AvgPool2d(4, stride=1)\n",
    "\n",
    "        self.fc1 = nn.Linear(in_features=outchannel, out_features=round(outchannel / 16))\n",
    "        self.fc2 = nn.Linear(in_features=round(outchannel / 16), out_features=outchannel)\n",
    "        self.sigmoid = nn.Sigmoid()\n",
    "        ####################\n",
    "\n",
    "        ####################\n",
    "        # self.seg = nn.Sequential(\n",
    "        #\n",
    "        # )\n",
    "        ####################\n",
    "        self.left = nn.Sequential(  #残差主体部分\n",
    "            nn.Conv2d(inchannel, outchannel, kernel_size=3, stride=stride, padding=1, bias=False), #第一个卷积把输入维度转成输出维度，步长可变\n",
    "            nn.BatchNorm2d(outchannel),\n",
    "            nn.ReLU(inplace=True),\n",
    "            nn.Conv2d(outchannel, outchannel, kernel_size=3, stride=1, padding=1, bias=False),#第二个卷积输入和输出的维度都是一样的，都为输出维度，步长为1\n",
    "            nn.BatchNorm2d(outchannel)\n",
    "        )\n",
    "        self.shortcut = nn.Sequential()  #一般而言，shortcut不做操作，输入x就输出x\n",
    "        if stride != 1 or inchannel != outchannel: #但是block的步长万一不是1 或者 block的输入维度与输出维度不一致\n",
    "            self.shortcut = nn.Sequential(\n",
    "                nn.Conv2d(inchannel, outchannel, kernel_size=1, stride=stride, bias=False), #shortcut的卷积，若步长不为1或者输入维度与输出维度不一致，就会触发\n",
    "                nn.BatchNorm2d(outchannel)\n",
    "            )\n",
    "\n",
    "    def forward(self, x):  #block的前向反馈，包含主体的2个卷积和shortcut可能触发的一个卷积\n",
    "        out = self.left(x)     #Residual主体\n",
    "        original_out = out\n",
    "        ###seg\n",
    "        out = self.globalAvgPool(out)\n",
    "        out = out.view(out.size(0), -1)\n",
    "        out = self.fc1(out)\n",
    "        out = F.relu(out)\n",
    "        out = self.fc2(out)\n",
    "        out = self.sigmoid(out)\n",
    "        out = out.view(out.size(0), out.size(1), 1, 1)\n",
    "        out = out * original_out\n",
    "        ###\n",
    "\n",
    "        out += self.shortcut(x)#shortcut\n",
    "        out = F.relu(out)\n",
    "        return out\n",
    "\n",
    "class ResNet(nn.Module):\n",
    "    def __init__(self, ResidualBlock, num_classes=10):\n",
    "        super(ResNet, self).__init__()\n",
    "        self.inchannel = 64  #输入网络后，遇到的第一个卷积是3x3，64层的\n",
    "        self.conv1 = nn.Sequential(\n",
    "            nn.Conv2d(3, 64, kernel_size=3, stride=1, padding=1, bias=False), #输入维度是3，因为一开始输入是RGB，卷积是3x3，64\n",
    "            nn.BatchNorm2d(64),\n",
    "            nn.ReLU(),\n",
    "        )\n",
    "        self.layer1 = self.make_layer(ResidualBlock, 64,  2, stride=1) #4个卷积是 3x3，64层的，其中有两个block，每个block2个卷积\n",
    "        self.layer2 = self.make_layer(ResidualBlock, 128, 2, stride=2)#4个卷积是 3x3，128层的，其中有两个block，每个block2个卷积\n",
    "        self.layer3 = self.make_layer(ResidualBlock, 256, 2, stride=2)#4个卷积是 3x3，256层的，其中有两个block，每个block2个卷积\n",
    "        self.layer4 = self.make_layer(ResidualBlock, 512, 2, stride=2)#4个卷积是 3x3，512层的，其中有两个block，每个block2个卷积\n",
    "        self.fc = nn.Linear(512, num_classes)   #最后的全连接层，512层要转成10层，因为cifar数据集是10分类的\n",
    "\n",
    "    def make_layer(self, block, channels, num_blocks, stride):#制造layer，一个layer 两个block\n",
    "        strides = [stride] + [1] * (num_blocks - 1)   #strides=[1,1],或[2,1]\n",
    "        layers = []\n",
    "        for stride in strides:#制造不同步长(1或者2)的block，一个block两个卷积，可能触发shortcut的第三个卷积（l不同layer之间的卷积会触发）\n",
    "            layers.append(block(self.inchannel, channels, stride))\n",
    "            self.inchannel = channels\n",
    "        return nn.Sequential(*layers)\n",
    "\n",
    "    def forward(self, x):\n",
    "        out = self.conv1(x)             #只有最开始的一个卷积\n",
    "        out = self.layer1(out)          #4个64层3x3卷积\n",
    "        out = self.layer2(out)          #4个128层3x3卷积\n",
    "        out = self.layer3(out)          #4个256层3x3卷积\n",
    "        out = self.layer4(out)          #4个512层3x3卷积\n",
    "        out = F.avg_pool2d(out, 4)      #最后的输出是4x4的，所以这里第二个参数为4\n",
    "        out = out.view(out.size(0), -1)\n",
    "        out = self.fc(out)\n",
    "        return out\n",
    "\n",
    "\n",
    "def SE_ResNet18():\n",
    "\n",
    "    return ResNet(ResidualBlock)\n",
    "\n"
   ]
  },
  {
   "cell_type": "markdown",
   "id": "9f532745",
   "metadata": {
    "papermill": {
     "duration": 0.006412,
     "end_time": "2023-05-31T08:47:38.484962",
     "exception": false,
     "start_time": "2023-05-31T08:47:38.478550",
     "status": "completed"
    },
    "tags": []
   },
   "source": [
    "## DenseNet"
   ]
  },
  {
   "cell_type": "code",
   "execution_count": 6,
   "id": "5f6c9209",
   "metadata": {
    "execution": {
     "iopub.execute_input": "2023-05-31T08:47:38.499661Z",
     "iopub.status.busy": "2023-05-31T08:47:38.499352Z",
     "iopub.status.idle": "2023-05-31T08:47:38.520228Z",
     "shell.execute_reply": "2023-05-31T08:47:38.519347Z"
    },
    "papermill": {
     "duration": 0.030743,
     "end_time": "2023-05-31T08:47:38.522207",
     "exception": false,
     "start_time": "2023-05-31T08:47:38.491464",
     "status": "completed"
    },
    "tags": []
   },
   "outputs": [],
   "source": [
    "class Bottleneck(nn.Module):\n",
    "    def __init__(self, in_channels, growth_rate):\n",
    "        super().__init__()\n",
    "        #\"\"\"In  our experiments, we let each 1×1 convolution\n",
    "        #produce 4k feature-maps.\"\"\"\n",
    "        inner_channel = 4 * growth_rate\n",
    "\n",
    "        #\"\"\"We find this design especially effective for DenseNet and\n",
    "        #we refer to our network with such a bottleneck layer, i.e.,\n",
    "        #to the BN-ReLU-Conv(1×1)-BN-ReLU-Conv(3×3) version of H ` ,\n",
    "        #as DenseNet-B.\"\"\"\n",
    "        self.bottle_neck = nn.Sequential(\n",
    "            nn.BatchNorm2d(in_channels),\n",
    "            nn.ReLU(inplace=True),\n",
    "            nn.Conv2d(in_channels, inner_channel, kernel_size=1, bias=False),\n",
    "            nn.BatchNorm2d(inner_channel),\n",
    "            nn.ReLU(inplace=True),\n",
    "            nn.Conv2d(inner_channel, growth_rate, kernel_size=3, padding=1, bias=False)\n",
    "        )\n",
    "\n",
    "    def forward(self, x):\n",
    "        return torch.cat([x, self.bottle_neck(x)], 1)\n",
    "\n",
    "#\"\"\"We refer to layers between blocks as transition\n",
    "#layers, which do convolution and pooling.\"\"\"\n",
    "class Transition(nn.Module):\n",
    "    def __init__(self, in_channels, out_channels):\n",
    "        super().__init__()\n",
    "        #\"\"\"The transition layers used in our experiments\n",
    "        #consist of a batch normalization layer and an 1×1\n",
    "        #convolutional layer followed by a 2×2 average pooling\n",
    "        #layer\"\"\".\n",
    "        self.down_sample = nn.Sequential(\n",
    "            nn.BatchNorm2d(in_channels),\n",
    "            nn.Conv2d(in_channels, out_channels, 1, bias=False),\n",
    "            nn.AvgPool2d(2, stride=2)\n",
    "        )\n",
    "\n",
    "    def forward(self, x):\n",
    "        return self.down_sample(x)\n",
    "\n",
    "#DesneNet-BC\n",
    "#B stands for bottleneck layer(BN-RELU-CONV(1x1)-BN-RELU-CONV(3x3))\n",
    "#C stands for compression factor(0<=theta<=1)\n",
    "class DenseNet(nn.Module):\n",
    "    def __init__(self, block, nblocks, growth_rate=12, reduction=0.5, num_class=100):\n",
    "        super().__init__()\n",
    "        self.growth_rate = growth_rate\n",
    "\n",
    "        #\"\"\"Before entering the first dense block, a convolution\n",
    "        #with 16 (or twice the growth rate for DenseNet-BC)\n",
    "        #output channels is performed on the input images.\"\"\"\n",
    "        inner_channels = 2 * growth_rate\n",
    "\n",
    "        #For convolutional layers with kernel size 3×3, each\n",
    "        #side of the inputs is zero-padded by one pixel to keep\n",
    "        #the feature-map size fixed.\n",
    "        self.conv1 = nn.Conv2d(3, inner_channels, kernel_size=3, padding=1, bias=False)\n",
    "\n",
    "        self.features = nn.Sequential()\n",
    "\n",
    "        for index in range(len(nblocks) - 1):\n",
    "            self.features.add_module(\"dense_block_layer_{}\".format(index), self._make_dense_layers(block, inner_channels, nblocks[index]))\n",
    "            inner_channels += growth_rate * nblocks[index]\n",
    "\n",
    "            #\"\"\"If a dense block contains m feature-maps, we let the\n",
    "            #following transition layer generate θm output feature-\n",
    "            #maps, where 0 < θ ≤ 1 is referred to as the compression\n",
    "            #fac-tor.\n",
    "            out_channels = int(reduction * inner_channels) # int() will automatic floor the value\n",
    "            self.features.add_module(\"transition_layer_{}\".format(index), Transition(inner_channels, out_channels))\n",
    "            inner_channels = out_channels\n",
    "\n",
    "        self.features.add_module(\"dense_block{}\".format(len(nblocks) - 1), self._make_dense_layers(block, inner_channels, nblocks[len(nblocks)-1]))\n",
    "        inner_channels += growth_rate * nblocks[len(nblocks) - 1]\n",
    "        self.features.add_module('bn', nn.BatchNorm2d(inner_channels))\n",
    "        self.features.add_module('relu', nn.ReLU(inplace=True))\n",
    "\n",
    "        self.avgpool = nn.AdaptiveAvgPool2d((1, 1))\n",
    "\n",
    "        self.linear = nn.Linear(inner_channels, num_class)\n",
    "\n",
    "    def forward(self, x):\n",
    "        output = self.conv1(x)\n",
    "        output = self.features(output)\n",
    "        output = self.avgpool(output)\n",
    "        output = output.view(output.size()[0], -1)\n",
    "        output = self.linear(output)\n",
    "        return output\n",
    "\n",
    "    def _make_dense_layers(self, block, in_channels, nblocks):\n",
    "        dense_block = nn.Sequential()\n",
    "        for index in range(nblocks):\n",
    "            dense_block.add_module('bottle_neck_layer_{}'.format(index), block(in_channels, self.growth_rate))\n",
    "            in_channels += self.growth_rate\n",
    "        return dense_block\n",
    "\n",
    "def densenet121():\n",
    "    return DenseNet(Bottleneck, [6,12,24,16], growth_rate=32)\n",
    "\n",
    "def densenet169():\n",
    "    return DenseNet(Bottleneck, [6,12,32,32], growth_rate=32)\n",
    "\n",
    "def densenet201():\n",
    "    return DenseNet(Bottleneck, [6,12,48,32], growth_rate=32)\n",
    "\n",
    "def densenet161():\n",
    "    return DenseNet(Bottleneck, [6,12,36,24], growth_rate=48)\n",
    "\n"
   ]
  },
  {
   "cell_type": "code",
   "execution_count": 7,
   "id": "a0571784",
   "metadata": {
    "execution": {
     "iopub.execute_input": "2023-05-31T08:47:38.536338Z",
     "iopub.status.busy": "2023-05-31T08:47:38.536061Z",
     "iopub.status.idle": "2023-05-31T08:47:41.635424Z",
     "shell.execute_reply": "2023-05-31T08:47:41.634546Z"
    },
    "executionInfo": {
     "elapsed": 680,
     "status": "ok",
     "timestamp": 1684414637992,
     "user": {
      "displayName": "RUIYING CHEN",
      "userId": "09384040230747805046"
     },
     "user_tz": -480
    },
    "id": "otA9CIgdnXfW",
    "papermill": {
     "duration": 3.110229,
     "end_time": "2023-05-31T08:47:41.638988",
     "exception": false,
     "start_time": "2023-05-31T08:47:38.528759",
     "status": "completed"
    },
    "tags": []
   },
   "outputs": [
    {
     "name": "stdout",
     "output_type": "stream",
     "text": [
      "DenseNet(\n",
      "  (conv1): Conv2d(3, 64, kernel_size=(3, 3), stride=(1, 1), padding=(1, 1), bias=False)\n",
      "  (features): Sequential(\n",
      "    (dense_block_layer_0): Sequential(\n",
      "      (bottle_neck_layer_0): Bottleneck(\n",
      "        (bottle_neck): Sequential(\n",
      "          (0): BatchNorm2d(64, eps=1e-05, momentum=0.1, affine=True, track_running_stats=True)\n",
      "          (1): ReLU(inplace=True)\n",
      "          (2): Conv2d(64, 128, kernel_size=(1, 1), stride=(1, 1), bias=False)\n",
      "          (3): BatchNorm2d(128, eps=1e-05, momentum=0.1, affine=True, track_running_stats=True)\n",
      "          (4): ReLU(inplace=True)\n",
      "          (5): Conv2d(128, 32, kernel_size=(3, 3), stride=(1, 1), padding=(1, 1), bias=False)\n",
      "        )\n",
      "      )\n",
      "      (bottle_neck_layer_1): Bottleneck(\n",
      "        (bottle_neck): Sequential(\n",
      "          (0): BatchNorm2d(96, eps=1e-05, momentum=0.1, affine=True, track_running_stats=True)\n",
      "          (1): ReLU(inplace=True)\n",
      "          (2): Conv2d(96, 128, kernel_size=(1, 1), stride=(1, 1), bias=False)\n",
      "          (3): BatchNorm2d(128, eps=1e-05, momentum=0.1, affine=True, track_running_stats=True)\n",
      "          (4): ReLU(inplace=True)\n",
      "          (5): Conv2d(128, 32, kernel_size=(3, 3), stride=(1, 1), padding=(1, 1), bias=False)\n",
      "        )\n",
      "      )\n",
      "      (bottle_neck_layer_2): Bottleneck(\n",
      "        (bottle_neck): Sequential(\n",
      "          (0): BatchNorm2d(128, eps=1e-05, momentum=0.1, affine=True, track_running_stats=True)\n",
      "          (1): ReLU(inplace=True)\n",
      "          (2): Conv2d(128, 128, kernel_size=(1, 1), stride=(1, 1), bias=False)\n",
      "          (3): BatchNorm2d(128, eps=1e-05, momentum=0.1, affine=True, track_running_stats=True)\n",
      "          (4): ReLU(inplace=True)\n",
      "          (5): Conv2d(128, 32, kernel_size=(3, 3), stride=(1, 1), padding=(1, 1), bias=False)\n",
      "        )\n",
      "      )\n",
      "      (bottle_neck_layer_3): Bottleneck(\n",
      "        (bottle_neck): Sequential(\n",
      "          (0): BatchNorm2d(160, eps=1e-05, momentum=0.1, affine=True, track_running_stats=True)\n",
      "          (1): ReLU(inplace=True)\n",
      "          (2): Conv2d(160, 128, kernel_size=(1, 1), stride=(1, 1), bias=False)\n",
      "          (3): BatchNorm2d(128, eps=1e-05, momentum=0.1, affine=True, track_running_stats=True)\n",
      "          (4): ReLU(inplace=True)\n",
      "          (5): Conv2d(128, 32, kernel_size=(3, 3), stride=(1, 1), padding=(1, 1), bias=False)\n",
      "        )\n",
      "      )\n",
      "      (bottle_neck_layer_4): Bottleneck(\n",
      "        (bottle_neck): Sequential(\n",
      "          (0): BatchNorm2d(192, eps=1e-05, momentum=0.1, affine=True, track_running_stats=True)\n",
      "          (1): ReLU(inplace=True)\n",
      "          (2): Conv2d(192, 128, kernel_size=(1, 1), stride=(1, 1), bias=False)\n",
      "          (3): BatchNorm2d(128, eps=1e-05, momentum=0.1, affine=True, track_running_stats=True)\n",
      "          (4): ReLU(inplace=True)\n",
      "          (5): Conv2d(128, 32, kernel_size=(3, 3), stride=(1, 1), padding=(1, 1), bias=False)\n",
      "        )\n",
      "      )\n",
      "      (bottle_neck_layer_5): Bottleneck(\n",
      "        (bottle_neck): Sequential(\n",
      "          (0): BatchNorm2d(224, eps=1e-05, momentum=0.1, affine=True, track_running_stats=True)\n",
      "          (1): ReLU(inplace=True)\n",
      "          (2): Conv2d(224, 128, kernel_size=(1, 1), stride=(1, 1), bias=False)\n",
      "          (3): BatchNorm2d(128, eps=1e-05, momentum=0.1, affine=True, track_running_stats=True)\n",
      "          (4): ReLU(inplace=True)\n",
      "          (5): Conv2d(128, 32, kernel_size=(3, 3), stride=(1, 1), padding=(1, 1), bias=False)\n",
      "        )\n",
      "      )\n",
      "    )\n",
      "    (transition_layer_0): Transition(\n",
      "      (down_sample): Sequential(\n",
      "        (0): BatchNorm2d(256, eps=1e-05, momentum=0.1, affine=True, track_running_stats=True)\n",
      "        (1): Conv2d(256, 128, kernel_size=(1, 1), stride=(1, 1), bias=False)\n",
      "        (2): AvgPool2d(kernel_size=2, stride=2, padding=0)\n",
      "      )\n",
      "    )\n",
      "    (dense_block_layer_1): Sequential(\n",
      "      (bottle_neck_layer_0): Bottleneck(\n",
      "        (bottle_neck): Sequential(\n",
      "          (0): BatchNorm2d(128, eps=1e-05, momentum=0.1, affine=True, track_running_stats=True)\n",
      "          (1): ReLU(inplace=True)\n",
      "          (2): Conv2d(128, 128, kernel_size=(1, 1), stride=(1, 1), bias=False)\n",
      "          (3): BatchNorm2d(128, eps=1e-05, momentum=0.1, affine=True, track_running_stats=True)\n",
      "          (4): ReLU(inplace=True)\n",
      "          (5): Conv2d(128, 32, kernel_size=(3, 3), stride=(1, 1), padding=(1, 1), bias=False)\n",
      "        )\n",
      "      )\n",
      "      (bottle_neck_layer_1): Bottleneck(\n",
      "        (bottle_neck): Sequential(\n",
      "          (0): BatchNorm2d(160, eps=1e-05, momentum=0.1, affine=True, track_running_stats=True)\n",
      "          (1): ReLU(inplace=True)\n",
      "          (2): Conv2d(160, 128, kernel_size=(1, 1), stride=(1, 1), bias=False)\n",
      "          (3): BatchNorm2d(128, eps=1e-05, momentum=0.1, affine=True, track_running_stats=True)\n",
      "          (4): ReLU(inplace=True)\n",
      "          (5): Conv2d(128, 32, kernel_size=(3, 3), stride=(1, 1), padding=(1, 1), bias=False)\n",
      "        )\n",
      "      )\n",
      "      (bottle_neck_layer_2): Bottleneck(\n",
      "        (bottle_neck): Sequential(\n",
      "          (0): BatchNorm2d(192, eps=1e-05, momentum=0.1, affine=True, track_running_stats=True)\n",
      "          (1): ReLU(inplace=True)\n",
      "          (2): Conv2d(192, 128, kernel_size=(1, 1), stride=(1, 1), bias=False)\n",
      "          (3): BatchNorm2d(128, eps=1e-05, momentum=0.1, affine=True, track_running_stats=True)\n",
      "          (4): ReLU(inplace=True)\n",
      "          (5): Conv2d(128, 32, kernel_size=(3, 3), stride=(1, 1), padding=(1, 1), bias=False)\n",
      "        )\n",
      "      )\n",
      "      (bottle_neck_layer_3): Bottleneck(\n",
      "        (bottle_neck): Sequential(\n",
      "          (0): BatchNorm2d(224, eps=1e-05, momentum=0.1, affine=True, track_running_stats=True)\n",
      "          (1): ReLU(inplace=True)\n",
      "          (2): Conv2d(224, 128, kernel_size=(1, 1), stride=(1, 1), bias=False)\n",
      "          (3): BatchNorm2d(128, eps=1e-05, momentum=0.1, affine=True, track_running_stats=True)\n",
      "          (4): ReLU(inplace=True)\n",
      "          (5): Conv2d(128, 32, kernel_size=(3, 3), stride=(1, 1), padding=(1, 1), bias=False)\n",
      "        )\n",
      "      )\n",
      "      (bottle_neck_layer_4): Bottleneck(\n",
      "        (bottle_neck): Sequential(\n",
      "          (0): BatchNorm2d(256, eps=1e-05, momentum=0.1, affine=True, track_running_stats=True)\n",
      "          (1): ReLU(inplace=True)\n",
      "          (2): Conv2d(256, 128, kernel_size=(1, 1), stride=(1, 1), bias=False)\n",
      "          (3): BatchNorm2d(128, eps=1e-05, momentum=0.1, affine=True, track_running_stats=True)\n",
      "          (4): ReLU(inplace=True)\n",
      "          (5): Conv2d(128, 32, kernel_size=(3, 3), stride=(1, 1), padding=(1, 1), bias=False)\n",
      "        )\n",
      "      )\n",
      "      (bottle_neck_layer_5): Bottleneck(\n",
      "        (bottle_neck): Sequential(\n",
      "          (0): BatchNorm2d(288, eps=1e-05, momentum=0.1, affine=True, track_running_stats=True)\n",
      "          (1): ReLU(inplace=True)\n",
      "          (2): Conv2d(288, 128, kernel_size=(1, 1), stride=(1, 1), bias=False)\n",
      "          (3): BatchNorm2d(128, eps=1e-05, momentum=0.1, affine=True, track_running_stats=True)\n",
      "          (4): ReLU(inplace=True)\n",
      "          (5): Conv2d(128, 32, kernel_size=(3, 3), stride=(1, 1), padding=(1, 1), bias=False)\n",
      "        )\n",
      "      )\n",
      "      (bottle_neck_layer_6): Bottleneck(\n",
      "        (bottle_neck): Sequential(\n",
      "          (0): BatchNorm2d(320, eps=1e-05, momentum=0.1, affine=True, track_running_stats=True)\n",
      "          (1): ReLU(inplace=True)\n",
      "          (2): Conv2d(320, 128, kernel_size=(1, 1), stride=(1, 1), bias=False)\n",
      "          (3): BatchNorm2d(128, eps=1e-05, momentum=0.1, affine=True, track_running_stats=True)\n",
      "          (4): ReLU(inplace=True)\n",
      "          (5): Conv2d(128, 32, kernel_size=(3, 3), stride=(1, 1), padding=(1, 1), bias=False)\n",
      "        )\n",
      "      )\n",
      "      (bottle_neck_layer_7): Bottleneck(\n",
      "        (bottle_neck): Sequential(\n",
      "          (0): BatchNorm2d(352, eps=1e-05, momentum=0.1, affine=True, track_running_stats=True)\n",
      "          (1): ReLU(inplace=True)\n",
      "          (2): Conv2d(352, 128, kernel_size=(1, 1), stride=(1, 1), bias=False)\n",
      "          (3): BatchNorm2d(128, eps=1e-05, momentum=0.1, affine=True, track_running_stats=True)\n",
      "          (4): ReLU(inplace=True)\n",
      "          (5): Conv2d(128, 32, kernel_size=(3, 3), stride=(1, 1), padding=(1, 1), bias=False)\n",
      "        )\n",
      "      )\n",
      "      (bottle_neck_layer_8): Bottleneck(\n",
      "        (bottle_neck): Sequential(\n",
      "          (0): BatchNorm2d(384, eps=1e-05, momentum=0.1, affine=True, track_running_stats=True)\n",
      "          (1): ReLU(inplace=True)\n",
      "          (2): Conv2d(384, 128, kernel_size=(1, 1), stride=(1, 1), bias=False)\n",
      "          (3): BatchNorm2d(128, eps=1e-05, momentum=0.1, affine=True, track_running_stats=True)\n",
      "          (4): ReLU(inplace=True)\n",
      "          (5): Conv2d(128, 32, kernel_size=(3, 3), stride=(1, 1), padding=(1, 1), bias=False)\n",
      "        )\n",
      "      )\n",
      "      (bottle_neck_layer_9): Bottleneck(\n",
      "        (bottle_neck): Sequential(\n",
      "          (0): BatchNorm2d(416, eps=1e-05, momentum=0.1, affine=True, track_running_stats=True)\n",
      "          (1): ReLU(inplace=True)\n",
      "          (2): Conv2d(416, 128, kernel_size=(1, 1), stride=(1, 1), bias=False)\n",
      "          (3): BatchNorm2d(128, eps=1e-05, momentum=0.1, affine=True, track_running_stats=True)\n",
      "          (4): ReLU(inplace=True)\n",
      "          (5): Conv2d(128, 32, kernel_size=(3, 3), stride=(1, 1), padding=(1, 1), bias=False)\n",
      "        )\n",
      "      )\n",
      "      (bottle_neck_layer_10): Bottleneck(\n",
      "        (bottle_neck): Sequential(\n",
      "          (0): BatchNorm2d(448, eps=1e-05, momentum=0.1, affine=True, track_running_stats=True)\n",
      "          (1): ReLU(inplace=True)\n",
      "          (2): Conv2d(448, 128, kernel_size=(1, 1), stride=(1, 1), bias=False)\n",
      "          (3): BatchNorm2d(128, eps=1e-05, momentum=0.1, affine=True, track_running_stats=True)\n",
      "          (4): ReLU(inplace=True)\n",
      "          (5): Conv2d(128, 32, kernel_size=(3, 3), stride=(1, 1), padding=(1, 1), bias=False)\n",
      "        )\n",
      "      )\n",
      "      (bottle_neck_layer_11): Bottleneck(\n",
      "        (bottle_neck): Sequential(\n",
      "          (0): BatchNorm2d(480, eps=1e-05, momentum=0.1, affine=True, track_running_stats=True)\n",
      "          (1): ReLU(inplace=True)\n",
      "          (2): Conv2d(480, 128, kernel_size=(1, 1), stride=(1, 1), bias=False)\n",
      "          (3): BatchNorm2d(128, eps=1e-05, momentum=0.1, affine=True, track_running_stats=True)\n",
      "          (4): ReLU(inplace=True)\n",
      "          (5): Conv2d(128, 32, kernel_size=(3, 3), stride=(1, 1), padding=(1, 1), bias=False)\n",
      "        )\n",
      "      )\n",
      "    )\n",
      "    (transition_layer_1): Transition(\n",
      "      (down_sample): Sequential(\n",
      "        (0): BatchNorm2d(512, eps=1e-05, momentum=0.1, affine=True, track_running_stats=True)\n",
      "        (1): Conv2d(512, 256, kernel_size=(1, 1), stride=(1, 1), bias=False)\n",
      "        (2): AvgPool2d(kernel_size=2, stride=2, padding=0)\n",
      "      )\n",
      "    )\n",
      "    (dense_block_layer_2): Sequential(\n",
      "      (bottle_neck_layer_0): Bottleneck(\n",
      "        (bottle_neck): Sequential(\n",
      "          (0): BatchNorm2d(256, eps=1e-05, momentum=0.1, affine=True, track_running_stats=True)\n",
      "          (1): ReLU(inplace=True)\n",
      "          (2): Conv2d(256, 128, kernel_size=(1, 1), stride=(1, 1), bias=False)\n",
      "          (3): BatchNorm2d(128, eps=1e-05, momentum=0.1, affine=True, track_running_stats=True)\n",
      "          (4): ReLU(inplace=True)\n",
      "          (5): Conv2d(128, 32, kernel_size=(3, 3), stride=(1, 1), padding=(1, 1), bias=False)\n",
      "        )\n",
      "      )\n",
      "      (bottle_neck_layer_1): Bottleneck(\n",
      "        (bottle_neck): Sequential(\n",
      "          (0): BatchNorm2d(288, eps=1e-05, momentum=0.1, affine=True, track_running_stats=True)\n",
      "          (1): ReLU(inplace=True)\n",
      "          (2): Conv2d(288, 128, kernel_size=(1, 1), stride=(1, 1), bias=False)\n",
      "          (3): BatchNorm2d(128, eps=1e-05, momentum=0.1, affine=True, track_running_stats=True)\n",
      "          (4): ReLU(inplace=True)\n",
      "          (5): Conv2d(128, 32, kernel_size=(3, 3), stride=(1, 1), padding=(1, 1), bias=False)\n",
      "        )\n",
      "      )\n",
      "      (bottle_neck_layer_2): Bottleneck(\n",
      "        (bottle_neck): Sequential(\n",
      "          (0): BatchNorm2d(320, eps=1e-05, momentum=0.1, affine=True, track_running_stats=True)\n",
      "          (1): ReLU(inplace=True)\n",
      "          (2): Conv2d(320, 128, kernel_size=(1, 1), stride=(1, 1), bias=False)\n",
      "          (3): BatchNorm2d(128, eps=1e-05, momentum=0.1, affine=True, track_running_stats=True)\n",
      "          (4): ReLU(inplace=True)\n",
      "          (5): Conv2d(128, 32, kernel_size=(3, 3), stride=(1, 1), padding=(1, 1), bias=False)\n",
      "        )\n",
      "      )\n",
      "      (bottle_neck_layer_3): Bottleneck(\n",
      "        (bottle_neck): Sequential(\n",
      "          (0): BatchNorm2d(352, eps=1e-05, momentum=0.1, affine=True, track_running_stats=True)\n",
      "          (1): ReLU(inplace=True)\n",
      "          (2): Conv2d(352, 128, kernel_size=(1, 1), stride=(1, 1), bias=False)\n",
      "          (3): BatchNorm2d(128, eps=1e-05, momentum=0.1, affine=True, track_running_stats=True)\n",
      "          (4): ReLU(inplace=True)\n",
      "          (5): Conv2d(128, 32, kernel_size=(3, 3), stride=(1, 1), padding=(1, 1), bias=False)\n",
      "        )\n",
      "      )\n",
      "      (bottle_neck_layer_4): Bottleneck(\n",
      "        (bottle_neck): Sequential(\n",
      "          (0): BatchNorm2d(384, eps=1e-05, momentum=0.1, affine=True, track_running_stats=True)\n",
      "          (1): ReLU(inplace=True)\n",
      "          (2): Conv2d(384, 128, kernel_size=(1, 1), stride=(1, 1), bias=False)\n",
      "          (3): BatchNorm2d(128, eps=1e-05, momentum=0.1, affine=True, track_running_stats=True)\n",
      "          (4): ReLU(inplace=True)\n",
      "          (5): Conv2d(128, 32, kernel_size=(3, 3), stride=(1, 1), padding=(1, 1), bias=False)\n",
      "        )\n",
      "      )\n",
      "      (bottle_neck_layer_5): Bottleneck(\n",
      "        (bottle_neck): Sequential(\n",
      "          (0): BatchNorm2d(416, eps=1e-05, momentum=0.1, affine=True, track_running_stats=True)\n",
      "          (1): ReLU(inplace=True)\n",
      "          (2): Conv2d(416, 128, kernel_size=(1, 1), stride=(1, 1), bias=False)\n",
      "          (3): BatchNorm2d(128, eps=1e-05, momentum=0.1, affine=True, track_running_stats=True)\n",
      "          (4): ReLU(inplace=True)\n",
      "          (5): Conv2d(128, 32, kernel_size=(3, 3), stride=(1, 1), padding=(1, 1), bias=False)\n",
      "        )\n",
      "      )\n",
      "      (bottle_neck_layer_6): Bottleneck(\n",
      "        (bottle_neck): Sequential(\n",
      "          (0): BatchNorm2d(448, eps=1e-05, momentum=0.1, affine=True, track_running_stats=True)\n",
      "          (1): ReLU(inplace=True)\n",
      "          (2): Conv2d(448, 128, kernel_size=(1, 1), stride=(1, 1), bias=False)\n",
      "          (3): BatchNorm2d(128, eps=1e-05, momentum=0.1, affine=True, track_running_stats=True)\n",
      "          (4): ReLU(inplace=True)\n",
      "          (5): Conv2d(128, 32, kernel_size=(3, 3), stride=(1, 1), padding=(1, 1), bias=False)\n",
      "        )\n",
      "      )\n",
      "      (bottle_neck_layer_7): Bottleneck(\n",
      "        (bottle_neck): Sequential(\n",
      "          (0): BatchNorm2d(480, eps=1e-05, momentum=0.1, affine=True, track_running_stats=True)\n",
      "          (1): ReLU(inplace=True)\n",
      "          (2): Conv2d(480, 128, kernel_size=(1, 1), stride=(1, 1), bias=False)\n",
      "          (3): BatchNorm2d(128, eps=1e-05, momentum=0.1, affine=True, track_running_stats=True)\n",
      "          (4): ReLU(inplace=True)\n",
      "          (5): Conv2d(128, 32, kernel_size=(3, 3), stride=(1, 1), padding=(1, 1), bias=False)\n",
      "        )\n",
      "      )\n",
      "      (bottle_neck_layer_8): Bottleneck(\n",
      "        (bottle_neck): Sequential(\n",
      "          (0): BatchNorm2d(512, eps=1e-05, momentum=0.1, affine=True, track_running_stats=True)\n",
      "          (1): ReLU(inplace=True)\n",
      "          (2): Conv2d(512, 128, kernel_size=(1, 1), stride=(1, 1), bias=False)\n",
      "          (3): BatchNorm2d(128, eps=1e-05, momentum=0.1, affine=True, track_running_stats=True)\n",
      "          (4): ReLU(inplace=True)\n",
      "          (5): Conv2d(128, 32, kernel_size=(3, 3), stride=(1, 1), padding=(1, 1), bias=False)\n",
      "        )\n",
      "      )\n",
      "      (bottle_neck_layer_9): Bottleneck(\n",
      "        (bottle_neck): Sequential(\n",
      "          (0): BatchNorm2d(544, eps=1e-05, momentum=0.1, affine=True, track_running_stats=True)\n",
      "          (1): ReLU(inplace=True)\n",
      "          (2): Conv2d(544, 128, kernel_size=(1, 1), stride=(1, 1), bias=False)\n",
      "          (3): BatchNorm2d(128, eps=1e-05, momentum=0.1, affine=True, track_running_stats=True)\n",
      "          (4): ReLU(inplace=True)\n",
      "          (5): Conv2d(128, 32, kernel_size=(3, 3), stride=(1, 1), padding=(1, 1), bias=False)\n",
      "        )\n",
      "      )\n",
      "      (bottle_neck_layer_10): Bottleneck(\n",
      "        (bottle_neck): Sequential(\n",
      "          (0): BatchNorm2d(576, eps=1e-05, momentum=0.1, affine=True, track_running_stats=True)\n",
      "          (1): ReLU(inplace=True)\n",
      "          (2): Conv2d(576, 128, kernel_size=(1, 1), stride=(1, 1), bias=False)\n",
      "          (3): BatchNorm2d(128, eps=1e-05, momentum=0.1, affine=True, track_running_stats=True)\n",
      "          (4): ReLU(inplace=True)\n",
      "          (5): Conv2d(128, 32, kernel_size=(3, 3), stride=(1, 1), padding=(1, 1), bias=False)\n",
      "        )\n",
      "      )\n",
      "      (bottle_neck_layer_11): Bottleneck(\n",
      "        (bottle_neck): Sequential(\n",
      "          (0): BatchNorm2d(608, eps=1e-05, momentum=0.1, affine=True, track_running_stats=True)\n",
      "          (1): ReLU(inplace=True)\n",
      "          (2): Conv2d(608, 128, kernel_size=(1, 1), stride=(1, 1), bias=False)\n",
      "          (3): BatchNorm2d(128, eps=1e-05, momentum=0.1, affine=True, track_running_stats=True)\n",
      "          (4): ReLU(inplace=True)\n",
      "          (5): Conv2d(128, 32, kernel_size=(3, 3), stride=(1, 1), padding=(1, 1), bias=False)\n",
      "        )\n",
      "      )\n",
      "      (bottle_neck_layer_12): Bottleneck(\n",
      "        (bottle_neck): Sequential(\n",
      "          (0): BatchNorm2d(640, eps=1e-05, momentum=0.1, affine=True, track_running_stats=True)\n",
      "          (1): ReLU(inplace=True)\n",
      "          (2): Conv2d(640, 128, kernel_size=(1, 1), stride=(1, 1), bias=False)\n",
      "          (3): BatchNorm2d(128, eps=1e-05, momentum=0.1, affine=True, track_running_stats=True)\n",
      "          (4): ReLU(inplace=True)\n",
      "          (5): Conv2d(128, 32, kernel_size=(3, 3), stride=(1, 1), padding=(1, 1), bias=False)\n",
      "        )\n",
      "      )\n",
      "      (bottle_neck_layer_13): Bottleneck(\n",
      "        (bottle_neck): Sequential(\n",
      "          (0): BatchNorm2d(672, eps=1e-05, momentum=0.1, affine=True, track_running_stats=True)\n",
      "          (1): ReLU(inplace=True)\n",
      "          (2): Conv2d(672, 128, kernel_size=(1, 1), stride=(1, 1), bias=False)\n",
      "          (3): BatchNorm2d(128, eps=1e-05, momentum=0.1, affine=True, track_running_stats=True)\n",
      "          (4): ReLU(inplace=True)\n",
      "          (5): Conv2d(128, 32, kernel_size=(3, 3), stride=(1, 1), padding=(1, 1), bias=False)\n",
      "        )\n",
      "      )\n",
      "      (bottle_neck_layer_14): Bottleneck(\n",
      "        (bottle_neck): Sequential(\n",
      "          (0): BatchNorm2d(704, eps=1e-05, momentum=0.1, affine=True, track_running_stats=True)\n",
      "          (1): ReLU(inplace=True)\n",
      "          (2): Conv2d(704, 128, kernel_size=(1, 1), stride=(1, 1), bias=False)\n",
      "          (3): BatchNorm2d(128, eps=1e-05, momentum=0.1, affine=True, track_running_stats=True)\n",
      "          (4): ReLU(inplace=True)\n",
      "          (5): Conv2d(128, 32, kernel_size=(3, 3), stride=(1, 1), padding=(1, 1), bias=False)\n",
      "        )\n",
      "      )\n",
      "      (bottle_neck_layer_15): Bottleneck(\n",
      "        (bottle_neck): Sequential(\n",
      "          (0): BatchNorm2d(736, eps=1e-05, momentum=0.1, affine=True, track_running_stats=True)\n",
      "          (1): ReLU(inplace=True)\n",
      "          (2): Conv2d(736, 128, kernel_size=(1, 1), stride=(1, 1), bias=False)\n",
      "          (3): BatchNorm2d(128, eps=1e-05, momentum=0.1, affine=True, track_running_stats=True)\n",
      "          (4): ReLU(inplace=True)\n",
      "          (5): Conv2d(128, 32, kernel_size=(3, 3), stride=(1, 1), padding=(1, 1), bias=False)\n",
      "        )\n",
      "      )\n",
      "      (bottle_neck_layer_16): Bottleneck(\n",
      "        (bottle_neck): Sequential(\n",
      "          (0): BatchNorm2d(768, eps=1e-05, momentum=0.1, affine=True, track_running_stats=True)\n",
      "          (1): ReLU(inplace=True)\n",
      "          (2): Conv2d(768, 128, kernel_size=(1, 1), stride=(1, 1), bias=False)\n",
      "          (3): BatchNorm2d(128, eps=1e-05, momentum=0.1, affine=True, track_running_stats=True)\n",
      "          (4): ReLU(inplace=True)\n",
      "          (5): Conv2d(128, 32, kernel_size=(3, 3), stride=(1, 1), padding=(1, 1), bias=False)\n",
      "        )\n",
      "      )\n",
      "      (bottle_neck_layer_17): Bottleneck(\n",
      "        (bottle_neck): Sequential(\n",
      "          (0): BatchNorm2d(800, eps=1e-05, momentum=0.1, affine=True, track_running_stats=True)\n",
      "          (1): ReLU(inplace=True)\n",
      "          (2): Conv2d(800, 128, kernel_size=(1, 1), stride=(1, 1), bias=False)\n",
      "          (3): BatchNorm2d(128, eps=1e-05, momentum=0.1, affine=True, track_running_stats=True)\n",
      "          (4): ReLU(inplace=True)\n",
      "          (5): Conv2d(128, 32, kernel_size=(3, 3), stride=(1, 1), padding=(1, 1), bias=False)\n",
      "        )\n",
      "      )\n",
      "      (bottle_neck_layer_18): Bottleneck(\n",
      "        (bottle_neck): Sequential(\n",
      "          (0): BatchNorm2d(832, eps=1e-05, momentum=0.1, affine=True, track_running_stats=True)\n",
      "          (1): ReLU(inplace=True)\n",
      "          (2): Conv2d(832, 128, kernel_size=(1, 1), stride=(1, 1), bias=False)\n",
      "          (3): BatchNorm2d(128, eps=1e-05, momentum=0.1, affine=True, track_running_stats=True)\n",
      "          (4): ReLU(inplace=True)\n",
      "          (5): Conv2d(128, 32, kernel_size=(3, 3), stride=(1, 1), padding=(1, 1), bias=False)\n",
      "        )\n",
      "      )\n",
      "      (bottle_neck_layer_19): Bottleneck(\n",
      "        (bottle_neck): Sequential(\n",
      "          (0): BatchNorm2d(864, eps=1e-05, momentum=0.1, affine=True, track_running_stats=True)\n",
      "          (1): ReLU(inplace=True)\n",
      "          (2): Conv2d(864, 128, kernel_size=(1, 1), stride=(1, 1), bias=False)\n",
      "          (3): BatchNorm2d(128, eps=1e-05, momentum=0.1, affine=True, track_running_stats=True)\n",
      "          (4): ReLU(inplace=True)\n",
      "          (5): Conv2d(128, 32, kernel_size=(3, 3), stride=(1, 1), padding=(1, 1), bias=False)\n",
      "        )\n",
      "      )\n",
      "      (bottle_neck_layer_20): Bottleneck(\n",
      "        (bottle_neck): Sequential(\n",
      "          (0): BatchNorm2d(896, eps=1e-05, momentum=0.1, affine=True, track_running_stats=True)\n",
      "          (1): ReLU(inplace=True)\n",
      "          (2): Conv2d(896, 128, kernel_size=(1, 1), stride=(1, 1), bias=False)\n",
      "          (3): BatchNorm2d(128, eps=1e-05, momentum=0.1, affine=True, track_running_stats=True)\n",
      "          (4): ReLU(inplace=True)\n",
      "          (5): Conv2d(128, 32, kernel_size=(3, 3), stride=(1, 1), padding=(1, 1), bias=False)\n",
      "        )\n",
      "      )\n",
      "      (bottle_neck_layer_21): Bottleneck(\n",
      "        (bottle_neck): Sequential(\n",
      "          (0): BatchNorm2d(928, eps=1e-05, momentum=0.1, affine=True, track_running_stats=True)\n",
      "          (1): ReLU(inplace=True)\n",
      "          (2): Conv2d(928, 128, kernel_size=(1, 1), stride=(1, 1), bias=False)\n",
      "          (3): BatchNorm2d(128, eps=1e-05, momentum=0.1, affine=True, track_running_stats=True)\n",
      "          (4): ReLU(inplace=True)\n",
      "          (5): Conv2d(128, 32, kernel_size=(3, 3), stride=(1, 1), padding=(1, 1), bias=False)\n",
      "        )\n",
      "      )\n",
      "      (bottle_neck_layer_22): Bottleneck(\n",
      "        (bottle_neck): Sequential(\n",
      "          (0): BatchNorm2d(960, eps=1e-05, momentum=0.1, affine=True, track_running_stats=True)\n",
      "          (1): ReLU(inplace=True)\n",
      "          (2): Conv2d(960, 128, kernel_size=(1, 1), stride=(1, 1), bias=False)\n",
      "          (3): BatchNorm2d(128, eps=1e-05, momentum=0.1, affine=True, track_running_stats=True)\n",
      "          (4): ReLU(inplace=True)\n",
      "          (5): Conv2d(128, 32, kernel_size=(3, 3), stride=(1, 1), padding=(1, 1), bias=False)\n",
      "        )\n",
      "      )\n",
      "      (bottle_neck_layer_23): Bottleneck(\n",
      "        (bottle_neck): Sequential(\n",
      "          (0): BatchNorm2d(992, eps=1e-05, momentum=0.1, affine=True, track_running_stats=True)\n",
      "          (1): ReLU(inplace=True)\n",
      "          (2): Conv2d(992, 128, kernel_size=(1, 1), stride=(1, 1), bias=False)\n",
      "          (3): BatchNorm2d(128, eps=1e-05, momentum=0.1, affine=True, track_running_stats=True)\n",
      "          (4): ReLU(inplace=True)\n",
      "          (5): Conv2d(128, 32, kernel_size=(3, 3), stride=(1, 1), padding=(1, 1), bias=False)\n",
      "        )\n",
      "      )\n",
      "    )\n",
      "    (transition_layer_2): Transition(\n",
      "      (down_sample): Sequential(\n",
      "        (0): BatchNorm2d(1024, eps=1e-05, momentum=0.1, affine=True, track_running_stats=True)\n",
      "        (1): Conv2d(1024, 512, kernel_size=(1, 1), stride=(1, 1), bias=False)\n",
      "        (2): AvgPool2d(kernel_size=2, stride=2, padding=0)\n",
      "      )\n",
      "    )\n",
      "    (dense_block3): Sequential(\n",
      "      (bottle_neck_layer_0): Bottleneck(\n",
      "        (bottle_neck): Sequential(\n",
      "          (0): BatchNorm2d(512, eps=1e-05, momentum=0.1, affine=True, track_running_stats=True)\n",
      "          (1): ReLU(inplace=True)\n",
      "          (2): Conv2d(512, 128, kernel_size=(1, 1), stride=(1, 1), bias=False)\n",
      "          (3): BatchNorm2d(128, eps=1e-05, momentum=0.1, affine=True, track_running_stats=True)\n",
      "          (4): ReLU(inplace=True)\n",
      "          (5): Conv2d(128, 32, kernel_size=(3, 3), stride=(1, 1), padding=(1, 1), bias=False)\n",
      "        )\n",
      "      )\n",
      "      (bottle_neck_layer_1): Bottleneck(\n",
      "        (bottle_neck): Sequential(\n",
      "          (0): BatchNorm2d(544, eps=1e-05, momentum=0.1, affine=True, track_running_stats=True)\n",
      "          (1): ReLU(inplace=True)\n",
      "          (2): Conv2d(544, 128, kernel_size=(1, 1), stride=(1, 1), bias=False)\n",
      "          (3): BatchNorm2d(128, eps=1e-05, momentum=0.1, affine=True, track_running_stats=True)\n",
      "          (4): ReLU(inplace=True)\n",
      "          (5): Conv2d(128, 32, kernel_size=(3, 3), stride=(1, 1), padding=(1, 1), bias=False)\n",
      "        )\n",
      "      )\n",
      "      (bottle_neck_layer_2): Bottleneck(\n",
      "        (bottle_neck): Sequential(\n",
      "          (0): BatchNorm2d(576, eps=1e-05, momentum=0.1, affine=True, track_running_stats=True)\n",
      "          (1): ReLU(inplace=True)\n",
      "          (2): Conv2d(576, 128, kernel_size=(1, 1), stride=(1, 1), bias=False)\n",
      "          (3): BatchNorm2d(128, eps=1e-05, momentum=0.1, affine=True, track_running_stats=True)\n",
      "          (4): ReLU(inplace=True)\n",
      "          (5): Conv2d(128, 32, kernel_size=(3, 3), stride=(1, 1), padding=(1, 1), bias=False)\n",
      "        )\n",
      "      )\n",
      "      (bottle_neck_layer_3): Bottleneck(\n",
      "        (bottle_neck): Sequential(\n",
      "          (0): BatchNorm2d(608, eps=1e-05, momentum=0.1, affine=True, track_running_stats=True)\n",
      "          (1): ReLU(inplace=True)\n",
      "          (2): Conv2d(608, 128, kernel_size=(1, 1), stride=(1, 1), bias=False)\n",
      "          (3): BatchNorm2d(128, eps=1e-05, momentum=0.1, affine=True, track_running_stats=True)\n",
      "          (4): ReLU(inplace=True)\n",
      "          (5): Conv2d(128, 32, kernel_size=(3, 3), stride=(1, 1), padding=(1, 1), bias=False)\n",
      "        )\n",
      "      )\n",
      "      (bottle_neck_layer_4): Bottleneck(\n",
      "        (bottle_neck): Sequential(\n",
      "          (0): BatchNorm2d(640, eps=1e-05, momentum=0.1, affine=True, track_running_stats=True)\n",
      "          (1): ReLU(inplace=True)\n",
      "          (2): Conv2d(640, 128, kernel_size=(1, 1), stride=(1, 1), bias=False)\n",
      "          (3): BatchNorm2d(128, eps=1e-05, momentum=0.1, affine=True, track_running_stats=True)\n",
      "          (4): ReLU(inplace=True)\n",
      "          (5): Conv2d(128, 32, kernel_size=(3, 3), stride=(1, 1), padding=(1, 1), bias=False)\n",
      "        )\n",
      "      )\n",
      "      (bottle_neck_layer_5): Bottleneck(\n",
      "        (bottle_neck): Sequential(\n",
      "          (0): BatchNorm2d(672, eps=1e-05, momentum=0.1, affine=True, track_running_stats=True)\n",
      "          (1): ReLU(inplace=True)\n",
      "          (2): Conv2d(672, 128, kernel_size=(1, 1), stride=(1, 1), bias=False)\n",
      "          (3): BatchNorm2d(128, eps=1e-05, momentum=0.1, affine=True, track_running_stats=True)\n",
      "          (4): ReLU(inplace=True)\n",
      "          (5): Conv2d(128, 32, kernel_size=(3, 3), stride=(1, 1), padding=(1, 1), bias=False)\n",
      "        )\n",
      "      )\n",
      "      (bottle_neck_layer_6): Bottleneck(\n",
      "        (bottle_neck): Sequential(\n",
      "          (0): BatchNorm2d(704, eps=1e-05, momentum=0.1, affine=True, track_running_stats=True)\n",
      "          (1): ReLU(inplace=True)\n",
      "          (2): Conv2d(704, 128, kernel_size=(1, 1), stride=(1, 1), bias=False)\n",
      "          (3): BatchNorm2d(128, eps=1e-05, momentum=0.1, affine=True, track_running_stats=True)\n",
      "          (4): ReLU(inplace=True)\n",
      "          (5): Conv2d(128, 32, kernel_size=(3, 3), stride=(1, 1), padding=(1, 1), bias=False)\n",
      "        )\n",
      "      )\n",
      "      (bottle_neck_layer_7): Bottleneck(\n",
      "        (bottle_neck): Sequential(\n",
      "          (0): BatchNorm2d(736, eps=1e-05, momentum=0.1, affine=True, track_running_stats=True)\n",
      "          (1): ReLU(inplace=True)\n",
      "          (2): Conv2d(736, 128, kernel_size=(1, 1), stride=(1, 1), bias=False)\n",
      "          (3): BatchNorm2d(128, eps=1e-05, momentum=0.1, affine=True, track_running_stats=True)\n",
      "          (4): ReLU(inplace=True)\n",
      "          (5): Conv2d(128, 32, kernel_size=(3, 3), stride=(1, 1), padding=(1, 1), bias=False)\n",
      "        )\n",
      "      )\n",
      "      (bottle_neck_layer_8): Bottleneck(\n",
      "        (bottle_neck): Sequential(\n",
      "          (0): BatchNorm2d(768, eps=1e-05, momentum=0.1, affine=True, track_running_stats=True)\n",
      "          (1): ReLU(inplace=True)\n",
      "          (2): Conv2d(768, 128, kernel_size=(1, 1), stride=(1, 1), bias=False)\n",
      "          (3): BatchNorm2d(128, eps=1e-05, momentum=0.1, affine=True, track_running_stats=True)\n",
      "          (4): ReLU(inplace=True)\n",
      "          (5): Conv2d(128, 32, kernel_size=(3, 3), stride=(1, 1), padding=(1, 1), bias=False)\n",
      "        )\n",
      "      )\n",
      "      (bottle_neck_layer_9): Bottleneck(\n",
      "        (bottle_neck): Sequential(\n",
      "          (0): BatchNorm2d(800, eps=1e-05, momentum=0.1, affine=True, track_running_stats=True)\n",
      "          (1): ReLU(inplace=True)\n",
      "          (2): Conv2d(800, 128, kernel_size=(1, 1), stride=(1, 1), bias=False)\n",
      "          (3): BatchNorm2d(128, eps=1e-05, momentum=0.1, affine=True, track_running_stats=True)\n",
      "          (4): ReLU(inplace=True)\n",
      "          (5): Conv2d(128, 32, kernel_size=(3, 3), stride=(1, 1), padding=(1, 1), bias=False)\n",
      "        )\n",
      "      )\n",
      "      (bottle_neck_layer_10): Bottleneck(\n",
      "        (bottle_neck): Sequential(\n",
      "          (0): BatchNorm2d(832, eps=1e-05, momentum=0.1, affine=True, track_running_stats=True)\n",
      "          (1): ReLU(inplace=True)\n",
      "          (2): Conv2d(832, 128, kernel_size=(1, 1), stride=(1, 1), bias=False)\n",
      "          (3): BatchNorm2d(128, eps=1e-05, momentum=0.1, affine=True, track_running_stats=True)\n",
      "          (4): ReLU(inplace=True)\n",
      "          (5): Conv2d(128, 32, kernel_size=(3, 3), stride=(1, 1), padding=(1, 1), bias=False)\n",
      "        )\n",
      "      )\n",
      "      (bottle_neck_layer_11): Bottleneck(\n",
      "        (bottle_neck): Sequential(\n",
      "          (0): BatchNorm2d(864, eps=1e-05, momentum=0.1, affine=True, track_running_stats=True)\n",
      "          (1): ReLU(inplace=True)\n",
      "          (2): Conv2d(864, 128, kernel_size=(1, 1), stride=(1, 1), bias=False)\n",
      "          (3): BatchNorm2d(128, eps=1e-05, momentum=0.1, affine=True, track_running_stats=True)\n",
      "          (4): ReLU(inplace=True)\n",
      "          (5): Conv2d(128, 32, kernel_size=(3, 3), stride=(1, 1), padding=(1, 1), bias=False)\n",
      "        )\n",
      "      )\n",
      "      (bottle_neck_layer_12): Bottleneck(\n",
      "        (bottle_neck): Sequential(\n",
      "          (0): BatchNorm2d(896, eps=1e-05, momentum=0.1, affine=True, track_running_stats=True)\n",
      "          (1): ReLU(inplace=True)\n",
      "          (2): Conv2d(896, 128, kernel_size=(1, 1), stride=(1, 1), bias=False)\n",
      "          (3): BatchNorm2d(128, eps=1e-05, momentum=0.1, affine=True, track_running_stats=True)\n",
      "          (4): ReLU(inplace=True)\n",
      "          (5): Conv2d(128, 32, kernel_size=(3, 3), stride=(1, 1), padding=(1, 1), bias=False)\n",
      "        )\n",
      "      )\n",
      "      (bottle_neck_layer_13): Bottleneck(\n",
      "        (bottle_neck): Sequential(\n",
      "          (0): BatchNorm2d(928, eps=1e-05, momentum=0.1, affine=True, track_running_stats=True)\n",
      "          (1): ReLU(inplace=True)\n",
      "          (2): Conv2d(928, 128, kernel_size=(1, 1), stride=(1, 1), bias=False)\n",
      "          (3): BatchNorm2d(128, eps=1e-05, momentum=0.1, affine=True, track_running_stats=True)\n",
      "          (4): ReLU(inplace=True)\n",
      "          (5): Conv2d(128, 32, kernel_size=(3, 3), stride=(1, 1), padding=(1, 1), bias=False)\n",
      "        )\n",
      "      )\n",
      "      (bottle_neck_layer_14): Bottleneck(\n",
      "        (bottle_neck): Sequential(\n",
      "          (0): BatchNorm2d(960, eps=1e-05, momentum=0.1, affine=True, track_running_stats=True)\n",
      "          (1): ReLU(inplace=True)\n",
      "          (2): Conv2d(960, 128, kernel_size=(1, 1), stride=(1, 1), bias=False)\n",
      "          (3): BatchNorm2d(128, eps=1e-05, momentum=0.1, affine=True, track_running_stats=True)\n",
      "          (4): ReLU(inplace=True)\n",
      "          (5): Conv2d(128, 32, kernel_size=(3, 3), stride=(1, 1), padding=(1, 1), bias=False)\n",
      "        )\n",
      "      )\n",
      "      (bottle_neck_layer_15): Bottleneck(\n",
      "        (bottle_neck): Sequential(\n",
      "          (0): BatchNorm2d(992, eps=1e-05, momentum=0.1, affine=True, track_running_stats=True)\n",
      "          (1): ReLU(inplace=True)\n",
      "          (2): Conv2d(992, 128, kernel_size=(1, 1), stride=(1, 1), bias=False)\n",
      "          (3): BatchNorm2d(128, eps=1e-05, momentum=0.1, affine=True, track_running_stats=True)\n",
      "          (4): ReLU(inplace=True)\n",
      "          (5): Conv2d(128, 32, kernel_size=(3, 3), stride=(1, 1), padding=(1, 1), bias=False)\n",
      "        )\n",
      "      )\n",
      "    )\n",
      "    (bn): BatchNorm2d(1024, eps=1e-05, momentum=0.1, affine=True, track_running_stats=True)\n",
      "    (relu): ReLU(inplace=True)\n",
      "  )\n",
      "  (avgpool): AdaptiveAvgPool2d(output_size=(1, 1))\n",
      "  (linear): Linear(in_features=1024, out_features=100, bias=True)\n",
      ")\n"
     ]
    }
   ],
   "source": [
    "def NetType(type):\n",
    "    if type==\"originalCNN\":\n",
    "        return Net().to(device)\n",
    "    \n",
    "    if type==\"ResNet\":\n",
    "        return resnet18().to(device)\n",
    "    \n",
    "    if type==\"SE-ResNet\":\n",
    "        return SE_ResNet18().to(device)\n",
    "    \n",
    "    if type==\"DenseNet\":\n",
    "        return densenet121().to(device)\n",
    "\n",
    "\n",
    "net=NetType(\"DenseNet\") #需要什么网络，改一下参数就可以\n",
    "print(net)"
   ]
  },
  {
   "cell_type": "code",
   "execution_count": 8,
   "id": "cbd70d03",
   "metadata": {
    "execution": {
     "iopub.execute_input": "2023-05-31T08:47:41.664009Z",
     "iopub.status.busy": "2023-05-31T08:47:41.663076Z",
     "iopub.status.idle": "2023-05-31T08:47:41.671782Z",
     "shell.execute_reply": "2023-05-31T08:47:41.670857Z"
    },
    "executionInfo": {
     "elapsed": 8,
     "status": "ok",
     "timestamp": 1684414638807,
     "user": {
      "displayName": "RUIYING CHEN",
      "userId": "09384040230747805046"
     },
     "user_tz": -480
    },
    "id": "35VI01P_kqal",
    "outputId": "64747940-f10a-4982-df2f-d5bc5a500b78",
    "papermill": {
     "duration": 0.0193,
     "end_time": "2023-05-31T08:47:41.673790",
     "exception": false,
     "start_time": "2023-05-31T08:47:41.654490",
     "status": "completed"
    },
    "tags": []
   },
   "outputs": [
    {
     "name": "stdout",
     "output_type": "stream",
     "text": [
      "12500\n"
     ]
    }
   ],
   "source": [
    "import torch.optim as optim\n",
    "\n",
    "criterion = nn.CrossEntropyLoss()\n",
    "optimizer = torch.optim.Adam(net.parameters(), lr=0.005)\n",
    "print(len(train_loader))"
   ]
  },
  {
   "cell_type": "code",
   "execution_count": null,
   "id": "3426d30e",
   "metadata": {
    "executionInfo": {
     "elapsed": 7,
     "status": "ok",
     "timestamp": 1684414638807,
     "user": {
      "displayName": "RUIYING CHEN",
      "userId": "09384040230747805046"
     },
     "user_tz": -480
    },
    "id": "ck0do7nrmNTQ",
    "papermill": {
     "duration": 0.007019,
     "end_time": "2023-05-31T08:47:41.688101",
     "exception": false,
     "start_time": "2023-05-31T08:47:41.681082",
     "status": "completed"
    },
    "tags": []
   },
   "outputs": [],
   "source": []
  },
  {
   "cell_type": "code",
   "execution_count": 9,
   "id": "5af3259a",
   "metadata": {
    "execution": {
     "iopub.execute_input": "2023-05-31T08:47:41.704453Z",
     "iopub.status.busy": "2023-05-31T08:47:41.703823Z",
     "iopub.status.idle": "2023-05-31T08:47:41.716194Z",
     "shell.execute_reply": "2023-05-31T08:47:41.715387Z"
    },
    "executionInfo": {
     "elapsed": 7,
     "status": "ok",
     "timestamp": 1684414638808,
     "user": {
      "displayName": "RUIYING CHEN",
      "userId": "09384040230747805046"
     },
     "user_tz": -480
    },
    "id": "xKlx2mCxlE02",
    "papermill": {
     "duration": 0.022839,
     "end_time": "2023-05-31T08:47:41.718061",
     "exception": false,
     "start_time": "2023-05-31T08:47:41.695222",
     "status": "completed"
    },
    "tags": []
   },
   "outputs": [],
   "source": [
    "from tqdm import tqdm\n",
    "def train(epoch):\n",
    "    net.train()\n",
    "    # Loop over each batch from the training set\n",
    "    train_tqdm = tqdm(train_loader, desc=\"Epoch \" + str(epoch))\n",
    "    for batch_idx, (data, target) in enumerate(train_tqdm):\n",
    "        # Copy data to GPU if needed\n",
    "        data = data.to(device)\n",
    "        target = target.to(device)\n",
    "        # Zero gradient buffers\n",
    "        optimizer.zero_grad()\n",
    "        # Pass data through the network\n",
    "        output = net(data)\n",
    "        # Calculate loss\n",
    "        loss = criterion(output, target)\n",
    "        # Backpropagate\n",
    "        loss.backward()\n",
    "        # Update weights\n",
    "        optimizer.step()  # w - alpha * dL / dw\n",
    "        train_tqdm.set_postfix({\"loss\": \"%.3g\" % loss.item()})\n",
    "\n",
    "def validate(lossv,top1AccuracyList,top5AccuracyList):\n",
    "    net.eval()\n",
    "    val_loss = 0\n",
    "    top1Correct = 0\n",
    "    top5Correct = 0\n",
    "    for index,(data, target) in enumerate(test_loader):\n",
    "        data = data.to(device)\n",
    "        labels = target.to(device)\n",
    "        outputs = net(data)\n",
    "        val_loss += criterion(outputs, labels).data.item()\n",
    "        _, top1Predicted = torch.max(outputs.data, 1)\n",
    "        top5Predicted = torch.topk(outputs.data, k=5, dim=1, largest=True)[1]\n",
    "        top1Correct += (top1Predicted == labels).cpu().sum().item()\n",
    "        label_resize = labels.view(-1, 1).expand_as(top5Predicted)\n",
    "        top5Correct += torch.eq(top5Predicted, label_resize).view(-1).cpu().sum().float().item()\n",
    "\n",
    "    val_loss /= len(test_loader)\n",
    "    lossv.append(val_loss)\n",
    "\n",
    "    top1Acc=100*top1Correct / len(test_loader.dataset)\n",
    "    top5Acc=100*top5Correct / len(test_loader.dataset)\n",
    "    top1AccuracyList.append(top1Acc)\n",
    "    top5AccuracyList.append(top5Acc)\n",
    "    \n",
    "    print('\\nValidation set: Average loss: {:.4f}, Top1Accuracy: {}/{} ({:.0f}%) Top5Accuracy: {}/{} ({:.0f}%)\\n'.format(\n",
    "        val_loss, top1Correct, len(test_loader.dataset), top1Acc,top5Correct, len(test_loader.dataset), top5Acc))\n",
    "#     accuracy = 100. * correct.to(torch.float32) / len(testloader.dataset)\n",
    "#     accv.append(accuracy)"
   ]
  },
  {
   "cell_type": "code",
   "execution_count": 10,
   "id": "f7244c14",
   "metadata": {
    "execution": {
     "iopub.execute_input": "2023-05-31T08:47:41.733512Z",
     "iopub.status.busy": "2023-05-31T08:47:41.733242Z",
     "iopub.status.idle": "2023-05-31T12:53:24.085622Z",
     "shell.execute_reply": "2023-05-31T12:53:24.084423Z"
    },
    "id": "pTWz8B3Dl9gu",
    "outputId": "b7c77e1e-40cc-417b-f5de-7467800712dd",
    "papermill": {
     "duration": 14742.362581,
     "end_time": "2023-05-31T12:53:24.087825",
     "exception": false,
     "start_time": "2023-05-31T08:47:41.725244",
     "status": "completed"
    },
    "tags": []
   },
   "outputs": [
    {
     "name": "stderr",
     "output_type": "stream",
     "text": [
      "Epoch 0: 100%|██████████| 12500/12500 [11:43<00:00, 17.78it/s, loss=1.45]\n"
     ]
    },
    {
     "name": "stdout",
     "output_type": "stream",
     "text": [
      "\n",
      "Validation set: Average loss: 1.3464, Top1Accuracy: 5081/10000 (51%) Top5Accuracy: 9405.0/10000 (94%)\n",
      "\n"
     ]
    },
    {
     "name": "stderr",
     "output_type": "stream",
     "text": [
      "Epoch 1: 100%|██████████| 12500/12500 [11:30<00:00, 18.11it/s, loss=0.791]\n"
     ]
    },
    {
     "name": "stdout",
     "output_type": "stream",
     "text": [
      "\n",
      "Validation set: Average loss: 1.1692, Top1Accuracy: 5712/10000 (57%) Top5Accuracy: 9537.0/10000 (95%)\n",
      "\n"
     ]
    },
    {
     "name": "stderr",
     "output_type": "stream",
     "text": [
      "Epoch 2: 100%|██████████| 12500/12500 [11:42<00:00, 17.79it/s, loss=0.409]\n"
     ]
    },
    {
     "name": "stdout",
     "output_type": "stream",
     "text": [
      "\n",
      "Validation set: Average loss: 0.9783, Top1Accuracy: 6582/10000 (66%) Top5Accuracy: 9722.0/10000 (97%)\n",
      "\n"
     ]
    },
    {
     "name": "stderr",
     "output_type": "stream",
     "text": [
      "Epoch 3: 100%|██████████| 12500/12500 [11:37<00:00, 17.92it/s, loss=1.49]\n"
     ]
    },
    {
     "name": "stdout",
     "output_type": "stream",
     "text": [
      "\n",
      "Validation set: Average loss: 0.8354, Top1Accuracy: 7128/10000 (71%) Top5Accuracy: 9778.0/10000 (98%)\n",
      "\n"
     ]
    },
    {
     "name": "stderr",
     "output_type": "stream",
     "text": [
      "Epoch 4: 100%|██████████| 12500/12500 [11:27<00:00, 18.19it/s, loss=0.662]\n"
     ]
    },
    {
     "name": "stdout",
     "output_type": "stream",
     "text": [
      "\n",
      "Validation set: Average loss: 0.7803, Top1Accuracy: 7299/10000 (73%) Top5Accuracy: 9799.0/10000 (98%)\n",
      "\n"
     ]
    },
    {
     "name": "stderr",
     "output_type": "stream",
     "text": [
      "Epoch 5: 100%|██████████| 12500/12500 [11:35<00:00, 17.96it/s, loss=0.241]\n"
     ]
    },
    {
     "name": "stdout",
     "output_type": "stream",
     "text": [
      "\n",
      "Validation set: Average loss: 0.7048, Top1Accuracy: 7619/10000 (76%) Top5Accuracy: 9847.0/10000 (98%)\n",
      "\n"
     ]
    },
    {
     "name": "stderr",
     "output_type": "stream",
     "text": [
      "Epoch 6: 100%|██████████| 12500/12500 [11:45<00:00, 17.72it/s, loss=0.7]\n"
     ]
    },
    {
     "name": "stdout",
     "output_type": "stream",
     "text": [
      "\n",
      "Validation set: Average loss: 0.6583, Top1Accuracy: 7754/10000 (78%) Top5Accuracy: 9874.0/10000 (99%)\n",
      "\n"
     ]
    },
    {
     "name": "stderr",
     "output_type": "stream",
     "text": [
      "Epoch 7: 100%|██████████| 12500/12500 [11:26<00:00, 18.22it/s, loss=0.483]\n"
     ]
    },
    {
     "name": "stdout",
     "output_type": "stream",
     "text": [
      "\n",
      "Validation set: Average loss: 0.6338, Top1Accuracy: 7858/10000 (79%) Top5Accuracy: 9870.0/10000 (99%)\n",
      "\n"
     ]
    },
    {
     "name": "stderr",
     "output_type": "stream",
     "text": [
      "Epoch 8: 100%|██████████| 12500/12500 [11:27<00:00, 18.18it/s, loss=0.0296]\n"
     ]
    },
    {
     "name": "stdout",
     "output_type": "stream",
     "text": [
      "\n",
      "Validation set: Average loss: 0.5716, Top1Accuracy: 8054/10000 (81%) Top5Accuracy: 9903.0/10000 (99%)\n",
      "\n"
     ]
    },
    {
     "name": "stderr",
     "output_type": "stream",
     "text": [
      "Epoch 9: 100%|██████████| 12500/12500 [11:33<00:00, 18.03it/s, loss=0.397]\n"
     ]
    },
    {
     "name": "stdout",
     "output_type": "stream",
     "text": [
      "\n",
      "Validation set: Average loss: 0.5852, Top1Accuracy: 8035/10000 (80%) Top5Accuracy: 9901.0/10000 (99%)\n",
      "\n"
     ]
    },
    {
     "name": "stderr",
     "output_type": "stream",
     "text": [
      "Epoch 10: 100%|██████████| 12500/12500 [11:35<00:00, 17.97it/s, loss=0.69]\n"
     ]
    },
    {
     "name": "stdout",
     "output_type": "stream",
     "text": [
      "\n",
      "Validation set: Average loss: 0.6890, Top1Accuracy: 8036/10000 (80%) Top5Accuracy: 9886.0/10000 (99%)\n",
      "\n"
     ]
    },
    {
     "name": "stderr",
     "output_type": "stream",
     "text": [
      "Epoch 11: 100%|██████████| 12500/12500 [11:39<00:00, 17.87it/s, loss=0.175]\n"
     ]
    },
    {
     "name": "stdout",
     "output_type": "stream",
     "text": [
      "\n",
      "Validation set: Average loss: 0.5956, Top1Accuracy: 8132/10000 (81%) Top5Accuracy: 9887.0/10000 (99%)\n",
      "\n"
     ]
    },
    {
     "name": "stderr",
     "output_type": "stream",
     "text": [
      "Epoch 12: 100%|██████████| 12500/12500 [11:46<00:00, 17.69it/s, loss=0.544]\n"
     ]
    },
    {
     "name": "stdout",
     "output_type": "stream",
     "text": [
      "\n",
      "Validation set: Average loss: 0.5915, Top1Accuracy: 8164/10000 (82%) Top5Accuracy: 9895.0/10000 (99%)\n",
      "\n"
     ]
    },
    {
     "name": "stderr",
     "output_type": "stream",
     "text": [
      "Epoch 13: 100%|██████████| 12500/12500 [11:47<00:00, 17.66it/s, loss=0.0152]\n"
     ]
    },
    {
     "name": "stdout",
     "output_type": "stream",
     "text": [
      "\n",
      "Validation set: Average loss: 0.6308, Top1Accuracy: 8139/10000 (81%) Top5Accuracy: 9899.0/10000 (99%)\n",
      "\n"
     ]
    },
    {
     "name": "stderr",
     "output_type": "stream",
     "text": [
      "Epoch 14: 100%|██████████| 12500/12500 [11:28<00:00, 18.14it/s, loss=0.00453]\n"
     ]
    },
    {
     "name": "stdout",
     "output_type": "stream",
     "text": [
      "\n",
      "Validation set: Average loss: 0.6057, Top1Accuracy: 8131/10000 (81%) Top5Accuracy: 9900.0/10000 (99%)\n",
      "\n"
     ]
    },
    {
     "name": "stderr",
     "output_type": "stream",
     "text": [
      "Epoch 15: 100%|██████████| 12500/12500 [11:29<00:00, 18.13it/s, loss=0.0939]\n"
     ]
    },
    {
     "name": "stdout",
     "output_type": "stream",
     "text": [
      "\n",
      "Validation set: Average loss: 0.6156, Top1Accuracy: 8195/10000 (82%) Top5Accuracy: 9890.0/10000 (99%)\n",
      "\n"
     ]
    },
    {
     "name": "stderr",
     "output_type": "stream",
     "text": [
      "Epoch 16: 100%|██████████| 12500/12500 [11:18<00:00, 18.42it/s, loss=0.0016]\n"
     ]
    },
    {
     "name": "stdout",
     "output_type": "stream",
     "text": [
      "\n",
      "Validation set: Average loss: 0.6184, Top1Accuracy: 8234/10000 (82%) Top5Accuracy: 9885.0/10000 (99%)\n",
      "\n"
     ]
    },
    {
     "name": "stderr",
     "output_type": "stream",
     "text": [
      "Epoch 17: 100%|██████████| 12500/12500 [11:31<00:00, 18.09it/s, loss=0.0196]\n"
     ]
    },
    {
     "name": "stdout",
     "output_type": "stream",
     "text": [
      "\n",
      "Validation set: Average loss: 0.6481, Top1Accuracy: 8181/10000 (82%) Top5Accuracy: 9897.0/10000 (99%)\n",
      "\n"
     ]
    },
    {
     "name": "stderr",
     "output_type": "stream",
     "text": [
      "Epoch 18: 100%|██████████| 12500/12500 [11:28<00:00, 18.16it/s, loss=0.919]\n"
     ]
    },
    {
     "name": "stdout",
     "output_type": "stream",
     "text": [
      "\n",
      "Validation set: Average loss: 0.7003, Top1Accuracy: 8146/10000 (81%) Top5Accuracy: 9881.0/10000 (99%)\n",
      "\n"
     ]
    },
    {
     "name": "stderr",
     "output_type": "stream",
     "text": [
      "Epoch 19: 100%|██████████| 12500/12500 [11:22<00:00, 18.32it/s, loss=0.106]\n"
     ]
    },
    {
     "name": "stdout",
     "output_type": "stream",
     "text": [
      "\n",
      "Validation set: Average loss: 0.6530, Top1Accuracy: 8244/10000 (82%) Top5Accuracy: 9894.0/10000 (99%)\n",
      "\n",
      "Finished Training\n"
     ]
    }
   ],
   "source": [
    "lossv = []\n",
    "top1AccuracyList = []   # top1准确率列表\n",
    "top5AccuracyList = []   # top5准确率列表\n",
    "max_epoch = 20\n",
    "for epoch in range(max_epoch):  # loop over the dataset multiple times\n",
    "    train(epoch)\n",
    "    with torch.no_grad():\n",
    "        validate(lossv,top1AccuracyList,top5AccuracyList)\n",
    "        \n",
    "print('Finished Training')"
   ]
  },
  {
   "cell_type": "code",
   "execution_count": 11,
   "id": "dad6f4f7",
   "metadata": {
    "execution": {
     "iopub.execute_input": "2023-05-31T12:54:22.401784Z",
     "iopub.status.busy": "2023-05-31T12:54:22.401375Z",
     "iopub.status.idle": "2023-05-31T12:54:22.405836Z",
     "shell.execute_reply": "2023-05-31T12:54:22.404892Z"
    },
    "executionInfo": {
     "elapsed": 22810,
     "status": "ok",
     "timestamp": 1684424352765,
     "user": {
      "displayName": "RUIYING CHEN",
      "userId": "09384040230747805046"
     },
     "user_tz": -480
    },
    "id": "Hag0zV9cmHm_",
    "outputId": "1434ac5c-f76c-4637-9223-e6955c942441",
    "papermill": {
     "duration": 29.405207,
     "end_time": "2023-05-31T12:54:22.408048",
     "exception": false,
     "start_time": "2023-05-31T12:53:53.002841",
     "status": "completed"
    },
    "tags": []
   },
   "outputs": [],
   "source": [
    "# from google.colab import drive\n",
    "# drive.mount('/content/drive')"
   ]
  },
  {
   "cell_type": "code",
   "execution_count": 12,
   "id": "5120b955",
   "metadata": {
    "execution": {
     "iopub.execute_input": "2023-05-31T12:55:20.214669Z",
     "iopub.status.busy": "2023-05-31T12:55:20.214293Z",
     "iopub.status.idle": "2023-05-31T12:55:20.891392Z",
     "shell.execute_reply": "2023-05-31T12:55:20.890384Z"
    },
    "id": "Z1-D3LkhvzDq",
    "papermill": {
     "duration": 29.829527,
     "end_time": "2023-05-31T12:55:20.893559",
     "exception": false,
     "start_time": "2023-05-31T12:54:51.064032",
     "status": "completed"
    },
    "tags": []
   },
   "outputs": [
    {
     "data": {
      "text/plain": [
       "Text(0.5, 1.0, 'validation top5 accuracy')"
      ]
     },
     "execution_count": 12,
     "metadata": {},
     "output_type": "execute_result"
    },
    {
     "data": {
      "image/png": "[encoded data removed]",
      "text/plain": [
       "<Figure size 500x300 with 1 Axes>"
      ]
     },
     "metadata": {},
     "output_type": "display_data"
    },
    {
     "data": {
      "image/png": "[encoded data removed]",
      "text/plain": [
       "<Figure size 500x300 with 1 Axes>"
      ]
     },
     "metadata": {},
     "output_type": "display_data"
    },
    {
     "data": {
      "image/png": "[encoded data removed]",
      "text/plain": [
       "<Figure size 500x300 with 1 Axes>"
      ]
     },
     "metadata": {},
     "output_type": "display_data"
    }
   ],
   "source": [
    "import matplotlib.pyplot as plt\n",
    "import numpy as np\n",
    "# 绘制曲线\n",
    "plt.figure(figsize=(5, 3))\n",
    "plt.plot(np.arange(1, max_epoch + 1), lossv)\n",
    "plt.title('validation loss')\n",
    "\n",
    "plt.figure(figsize=(5,3))\n",
    "plt.plot(np.arange(1, max_epoch + 1), top1AccuracyList)\n",
    "plt.title('validation top1 accuracy')\n",
    "\n",
    "plt.figure(figsize=(5,3))\n",
    "plt.plot(np.arange(1, max_epoch + 1), top5AccuracyList)\n",
    "plt.title('validation top5 accuracy')"
   ]
  },
  {
   "cell_type": "code",
   "execution_count": null,
   "id": "5e1504e3",
   "metadata": {
    "id": "fyWGvlbHup5w",
    "papermill": {
     "duration": 29.041637,
     "end_time": "2023-05-31T12:56:18.301319",
     "exception": false,
     "start_time": "2023-05-31T12:55:49.259682",
     "status": "completed"
    },
    "tags": []
   },
   "outputs": [],
   "source": []
  }
 ],
 "metadata": {
  "kernelspec": {
   "display_name": "Python 3",
   "language": "python",
   "name": "python3"
  },
  "language_info": {
   "codemirror_mode": {
    "name": "ipython",
    "version": 3
   },
   "file_extension": ".py",
   "mimetype": "text/x-python",
   "name": "python",
   "nbconvert_exporter": "python",
   "pygments_lexer": "ipython3",
   "version": "3.10.10"
  },
  "papermill": {
   "default_parameters": {},
   "duration": 15012.957107,
   "end_time": "2023-05-31T12:56:50.004039",
   "environment_variables": {},
   "exception": null,
   "input_path": "__notebook__.ipynb",
   "output_path": "__notebook__.ipynb",
   "parameters": {},
   "start_time": "2023-05-31T08:46:37.046932",
   "version": "2.4.0"
  }
 },
 "nbformat": 4,
 "nbformat_minor": 5
}
